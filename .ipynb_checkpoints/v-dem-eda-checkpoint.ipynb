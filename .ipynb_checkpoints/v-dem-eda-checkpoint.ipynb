{
 "cells": [
  {
   "cell_type": "code",
   "execution_count": 1,
   "metadata": {},
   "outputs": [],
   "source": [
    "import pandas as pd\n",
    "import plotly.express as px"
   ]
  },
  {
   "cell_type": "code",
   "execution_count": 2,
   "metadata": {
    "jupyter": {
     "outputs_hidden": false
    },
    "pycharm": {
     "name": "#%%\n"
    }
   },
   "outputs": [],
   "source": [
    "v_dem_df = pd.read_csv('V-Dem-CPD-Party-V1.csv')"
   ]
  },
  {
   "cell_type": "code",
   "execution_count": 3,
   "metadata": {},
   "outputs": [
    {
     "data": {
      "text/html": [
       "<div>\n",
       "<style scoped>\n",
       "    .dataframe tbody tr th:only-of-type {\n",
       "        vertical-align: middle;\n",
       "    }\n",
       "\n",
       "    .dataframe tbody tr th {\n",
       "        vertical-align: top;\n",
       "    }\n",
       "\n",
       "    .dataframe thead th {\n",
       "        text-align: right;\n",
       "    }\n",
       "</style>\n",
       "<table border=\"1\" class=\"dataframe\">\n",
       "  <thead>\n",
       "    <tr style=\"text-align: right;\">\n",
       "      <th></th>\n",
       "      <th>v2paenname</th>\n",
       "      <th>v2paorname</th>\n",
       "      <th>v2pashname</th>\n",
       "      <th>v2paid</th>\n",
       "      <th>pf_party_id</th>\n",
       "      <th>party_gaps</th>\n",
       "      <th>pf_url</th>\n",
       "      <th>country_name</th>\n",
       "      <th>histname</th>\n",
       "      <th>country_id</th>\n",
       "      <th>...</th>\n",
       "      <th>ep_galtan_salience</th>\n",
       "      <th>GPS_ID</th>\n",
       "      <th>ep_members_vs_leadership</th>\n",
       "      <th>ep_v6_lib_cons</th>\n",
       "      <th>ep_people_vs_elite</th>\n",
       "      <th>ep_v7_lib_cons_saliency</th>\n",
       "      <th>ep_type_populism</th>\n",
       "      <th>ep_type_populist_values</th>\n",
       "      <th>ep_v8_popul_rhetoric</th>\n",
       "      <th>ep_v9_popul_saliency</th>\n",
       "    </tr>\n",
       "  </thead>\n",
       "  <tbody>\n",
       "    <tr>\n",
       "      <th>1471</th>\n",
       "      <td>Democratic Party</td>\n",
       "      <td>NaN</td>\n",
       "      <td>Dem</td>\n",
       "      <td>432</td>\n",
       "      <td>432</td>\n",
       "      <td>NaN</td>\n",
       "      <td>https://partyfacts.herokuapp.com/data/partycod...</td>\n",
       "      <td>United States of America</td>\n",
       "      <td>United States of America</td>\n",
       "      <td>20</td>\n",
       "      <td>...</td>\n",
       "      <td>NaN</td>\n",
       "      <td>NaN</td>\n",
       "      <td>NaN</td>\n",
       "      <td>NaN</td>\n",
       "      <td>NaN</td>\n",
       "      <td>NaN</td>\n",
       "      <td>NaN</td>\n",
       "      <td>NaN</td>\n",
       "      <td>NaN</td>\n",
       "      <td>NaN</td>\n",
       "    </tr>\n",
       "    <tr>\n",
       "      <th>1472</th>\n",
       "      <td>Democratic Party</td>\n",
       "      <td>NaN</td>\n",
       "      <td>Dem</td>\n",
       "      <td>432</td>\n",
       "      <td>432</td>\n",
       "      <td>NaN</td>\n",
       "      <td>https://partyfacts.herokuapp.com/data/partycod...</td>\n",
       "      <td>United States of America</td>\n",
       "      <td>United States of America</td>\n",
       "      <td>20</td>\n",
       "      <td>...</td>\n",
       "      <td>NaN</td>\n",
       "      <td>NaN</td>\n",
       "      <td>NaN</td>\n",
       "      <td>NaN</td>\n",
       "      <td>NaN</td>\n",
       "      <td>NaN</td>\n",
       "      <td>NaN</td>\n",
       "      <td>NaN</td>\n",
       "      <td>NaN</td>\n",
       "      <td>NaN</td>\n",
       "    </tr>\n",
       "    <tr>\n",
       "      <th>1473</th>\n",
       "      <td>Democratic Party</td>\n",
       "      <td>NaN</td>\n",
       "      <td>Dem</td>\n",
       "      <td>432</td>\n",
       "      <td>432</td>\n",
       "      <td>NaN</td>\n",
       "      <td>https://partyfacts.herokuapp.com/data/partycod...</td>\n",
       "      <td>United States of America</td>\n",
       "      <td>United States of America</td>\n",
       "      <td>20</td>\n",
       "      <td>...</td>\n",
       "      <td>NaN</td>\n",
       "      <td>NaN</td>\n",
       "      <td>NaN</td>\n",
       "      <td>NaN</td>\n",
       "      <td>NaN</td>\n",
       "      <td>NaN</td>\n",
       "      <td>NaN</td>\n",
       "      <td>NaN</td>\n",
       "      <td>NaN</td>\n",
       "      <td>NaN</td>\n",
       "    </tr>\n",
       "    <tr>\n",
       "      <th>1474</th>\n",
       "      <td>Democratic Party</td>\n",
       "      <td>NaN</td>\n",
       "      <td>Dem</td>\n",
       "      <td>432</td>\n",
       "      <td>432</td>\n",
       "      <td>NaN</td>\n",
       "      <td>https://partyfacts.herokuapp.com/data/partycod...</td>\n",
       "      <td>United States of America</td>\n",
       "      <td>United States of America</td>\n",
       "      <td>20</td>\n",
       "      <td>...</td>\n",
       "      <td>NaN</td>\n",
       "      <td>NaN</td>\n",
       "      <td>NaN</td>\n",
       "      <td>NaN</td>\n",
       "      <td>NaN</td>\n",
       "      <td>NaN</td>\n",
       "      <td>NaN</td>\n",
       "      <td>NaN</td>\n",
       "      <td>NaN</td>\n",
       "      <td>NaN</td>\n",
       "    </tr>\n",
       "    <tr>\n",
       "      <th>1475</th>\n",
       "      <td>Democratic Party</td>\n",
       "      <td>NaN</td>\n",
       "      <td>Dem</td>\n",
       "      <td>432</td>\n",
       "      <td>432</td>\n",
       "      <td>NaN</td>\n",
       "      <td>https://partyfacts.herokuapp.com/data/partycod...</td>\n",
       "      <td>United States of America</td>\n",
       "      <td>United States of America</td>\n",
       "      <td>20</td>\n",
       "      <td>...</td>\n",
       "      <td>NaN</td>\n",
       "      <td>NaN</td>\n",
       "      <td>NaN</td>\n",
       "      <td>NaN</td>\n",
       "      <td>NaN</td>\n",
       "      <td>NaN</td>\n",
       "      <td>NaN</td>\n",
       "      <td>NaN</td>\n",
       "      <td>NaN</td>\n",
       "      <td>NaN</td>\n",
       "    </tr>\n",
       "  </tbody>\n",
       "</table>\n",
       "<p>5 rows × 384 columns</p>\n",
       "</div>"
      ],
      "text/plain": [
       "            v2paenname v2paorname v2pashname  v2paid  pf_party_id party_gaps  \\\n",
       "1471  Democratic Party        NaN        Dem     432          432        NaN   \n",
       "1472  Democratic Party        NaN        Dem     432          432        NaN   \n",
       "1473  Democratic Party        NaN        Dem     432          432        NaN   \n",
       "1474  Democratic Party        NaN        Dem     432          432        NaN   \n",
       "1475  Democratic Party        NaN        Dem     432          432        NaN   \n",
       "\n",
       "                                                 pf_url  \\\n",
       "1471  https://partyfacts.herokuapp.com/data/partycod...   \n",
       "1472  https://partyfacts.herokuapp.com/data/partycod...   \n",
       "1473  https://partyfacts.herokuapp.com/data/partycod...   \n",
       "1474  https://partyfacts.herokuapp.com/data/partycod...   \n",
       "1475  https://partyfacts.herokuapp.com/data/partycod...   \n",
       "\n",
       "                  country_name                  histname  country_id  ...  \\\n",
       "1471  United States of America  United States of America          20  ...   \n",
       "1472  United States of America  United States of America          20  ...   \n",
       "1473  United States of America  United States of America          20  ...   \n",
       "1474  United States of America  United States of America          20  ...   \n",
       "1475  United States of America  United States of America          20  ...   \n",
       "\n",
       "     ep_galtan_salience  GPS_ID ep_members_vs_leadership  ep_v6_lib_cons  \\\n",
       "1471                NaN     NaN                      NaN             NaN   \n",
       "1472                NaN     NaN                      NaN             NaN   \n",
       "1473                NaN     NaN                      NaN             NaN   \n",
       "1474                NaN     NaN                      NaN             NaN   \n",
       "1475                NaN     NaN                      NaN             NaN   \n",
       "\n",
       "      ep_people_vs_elite  ep_v7_lib_cons_saliency  ep_type_populism  \\\n",
       "1471                 NaN                      NaN               NaN   \n",
       "1472                 NaN                      NaN               NaN   \n",
       "1473                 NaN                      NaN               NaN   \n",
       "1474                 NaN                      NaN               NaN   \n",
       "1475                 NaN                      NaN               NaN   \n",
       "\n",
       "      ep_type_populist_values  ep_v8_popul_rhetoric  ep_v9_popul_saliency  \n",
       "1471                      NaN                   NaN                   NaN  \n",
       "1472                      NaN                   NaN                   NaN  \n",
       "1473                      NaN                   NaN                   NaN  \n",
       "1474                      NaN                   NaN                   NaN  \n",
       "1475                      NaN                   NaN                   NaN  \n",
       "\n",
       "[5 rows x 384 columns]"
      ]
     },
     "execution_count": 3,
     "metadata": {},
     "output_type": "execute_result"
    }
   ],
   "source": [
    "v_dem_df = v_dem_df[v_dem_df['country_name'] == 'United States of America']\n",
    "v_dem_df = v_dem_df[(v_dem_df['v2paenname'] == 'Republican Party') | (v_dem_df['v2paenname'] == 'Democratic Party')]\n",
    "v_dem_df = v_dem_df[v_dem_df['v2xpa_illiberal'].notna()]\n",
    "v_dem_df.head()"
   ]
  },
  {
   "cell_type": "code",
   "execution_count": 8,
   "metadata": {},
   "outputs": [
    {
     "data": {
      "text/html": [
       "<div>\n",
       "<style scoped>\n",
       "    .dataframe tbody tr th:only-of-type {\n",
       "        vertical-align: middle;\n",
       "    }\n",
       "\n",
       "    .dataframe tbody tr th {\n",
       "        vertical-align: top;\n",
       "    }\n",
       "\n",
       "    .dataframe thead th {\n",
       "        text-align: right;\n",
       "    }\n",
       "</style>\n",
       "<table border=\"1\" class=\"dataframe\">\n",
       "  <thead>\n",
       "    <tr style=\"text-align: right;\">\n",
       "      <th></th>\n",
       "      <th>Year</th>\n",
       "      <th>Party</th>\n",
       "      <th>Illiberalism</th>\n",
       "      <th>Populism</th>\n",
       "      <th>Votes (%)</th>\n",
       "    </tr>\n",
       "  </thead>\n",
       "  <tbody>\n",
       "    <tr>\n",
       "      <th>1544</th>\n",
       "      <td>1996</td>\n",
       "      <td>Republican Party</td>\n",
       "      <td>0.190</td>\n",
       "      <td>0.342</td>\n",
       "      <td>47.8</td>\n",
       "    </tr>\n",
       "    <tr>\n",
       "      <th>1495</th>\n",
       "      <td>2018</td>\n",
       "      <td>Democratic Party</td>\n",
       "      <td>0.118</td>\n",
       "      <td>0.405</td>\n",
       "      <td>54.4</td>\n",
       "    </tr>\n",
       "    <tr>\n",
       "      <th>1538</th>\n",
       "      <td>1984</td>\n",
       "      <td>Republican Party</td>\n",
       "      <td>0.157</td>\n",
       "      <td>0.245</td>\n",
       "      <td>46.8</td>\n",
       "    </tr>\n",
       "    <tr>\n",
       "      <th>1543</th>\n",
       "      <td>1994</td>\n",
       "      <td>Republican Party</td>\n",
       "      <td>0.190</td>\n",
       "      <td>0.342</td>\n",
       "      <td>51.5</td>\n",
       "    </tr>\n",
       "    <tr>\n",
       "      <th>1534</th>\n",
       "      <td>1976</td>\n",
       "      <td>Republican Party</td>\n",
       "      <td>0.156</td>\n",
       "      <td>0.340</td>\n",
       "      <td>41.7</td>\n",
       "    </tr>\n",
       "  </tbody>\n",
       "</table>\n",
       "</div>"
      ],
      "text/plain": [
       "      Year             Party  Illiberalism  Populism  Votes (%)\n",
       "1544  1996  Republican Party         0.190     0.342       47.8\n",
       "1495  2018  Democratic Party         0.118     0.405       54.4\n",
       "1538  1984  Republican Party         0.157     0.245       46.8\n",
       "1543  1994  Republican Party         0.190     0.342       51.5\n",
       "1534  1976  Republican Party         0.156     0.340       41.7"
      ]
     },
     "execution_count": 8,
     "metadata": {},
     "output_type": "execute_result"
    }
   ],
   "source": [
    "df = pd.DataFrame({\n",
    "    'Year': v_dem_df['year'].array,\n",
    "    'Party': v_dem_df['v2paenname'].array,\n",
    "    'Illiberalism': v_dem_df['v2xpa_illiberal'].array,\n",
    "    'Populism': v_dem_df['v2xpa_popul'].array,\n",
    "    'Votes (%)': v_dem_df['v2pavote']\n",
    "})\n",
    "\n",
    "df.sample(n=5).head()"
   ]
  },
  {
   "cell_type": "code",
   "execution_count": null,
   "metadata": {},
   "outputs": [],
   "source": [
    "compare_df = "
   ]
  },
  {
   "cell_type": "code",
   "execution_count": 54,
   "metadata": {},
   "outputs": [
    {
     "data": {
      "application/vnd.plotly.v1+json": {
       "config": {
        "plotlyServerURL": "https://plot.ly"
       },
       "data": [
        {
         "hovertemplate": "<b>%{hovertext}</b><br><br>Party=Democratic Party<br>Year=1970<br>Populism=%{x}<br>Illiberalism=%{y}<br>Votes (%)=%{marker.size}<extra></extra>",
         "hovertext": [
          "Democratic Party"
         ],
         "ids": [
          "Democratic Party"
         ],
         "legendgroup": "Democratic Party",
         "marker": {
          "color": "#636efa",
          "size": [
           50.9
          ],
          "sizemode": "area",
          "sizeref": 0.14175000000000001,
          "symbol": "circle"
         },
         "mode": "markers",
         "name": "Democratic Party",
         "orientation": "v",
         "showlegend": true,
         "type": "scatter",
         "x": [
          0.354
         ],
         "xaxis": "x",
         "y": [
          0.124
         ],
         "yaxis": "y"
        },
        {
         "hovertemplate": "<b>%{hovertext}</b><br><br>Party=Republican Party<br>Year=1970<br>Populism=%{x}<br>Illiberalism=%{y}<br>Votes (%)=%{marker.size}<extra></extra>",
         "hovertext": [
          "Republican Party"
         ],
         "ids": [
          "Republican Party"
         ],
         "legendgroup": "Republican Party",
         "marker": {
          "color": "#EF553B",
          "size": [
           45.3
          ],
          "sizemode": "area",
          "sizeref": 0.14175000000000001,
          "symbol": "circle"
         },
         "mode": "markers",
         "name": "Republican Party",
         "orientation": "v",
         "showlegend": true,
         "type": "scatter",
         "x": [
          0.337
         ],
         "xaxis": "x",
         "y": [
          0.183
         ],
         "yaxis": "y"
        }
       ],
       "frames": [
        {
         "data": [
          {
           "hovertemplate": "<b>%{hovertext}</b><br><br>Party=Democratic Party<br>Year=1970<br>Populism=%{x}<br>Illiberalism=%{y}<br>Votes (%)=%{marker.size}<extra></extra>",
           "hovertext": [
            "Democratic Party"
           ],
           "ids": [
            "Democratic Party"
           ],
           "legendgroup": "Democratic Party",
           "marker": {
            "color": "#636efa",
            "size": [
             50.9
            ],
            "sizemode": "area",
            "sizeref": 0.14175000000000001,
            "symbol": "circle"
           },
           "mode": "markers",
           "name": "Democratic Party",
           "orientation": "v",
           "showlegend": true,
           "type": "scatter",
           "x": [
            0.354
           ],
           "xaxis": "x",
           "y": [
            0.124
           ],
           "yaxis": "y"
          },
          {
           "hovertemplate": "<b>%{hovertext}</b><br><br>Party=Republican Party<br>Year=1970<br>Populism=%{x}<br>Illiberalism=%{y}<br>Votes (%)=%{marker.size}<extra></extra>",
           "hovertext": [
            "Republican Party"
           ],
           "ids": [
            "Republican Party"
           ],
           "legendgroup": "Republican Party",
           "marker": {
            "color": "#EF553B",
            "size": [
             45.3
            ],
            "sizemode": "area",
            "sizeref": 0.14175000000000001,
            "symbol": "circle"
           },
           "mode": "markers",
           "name": "Republican Party",
           "orientation": "v",
           "showlegend": true,
           "type": "scatter",
           "x": [
            0.337
           ],
           "xaxis": "x",
           "y": [
            0.183
           ],
           "yaxis": "y"
          }
         ],
         "name": "1970"
        },
        {
         "data": [
          {
           "hovertemplate": "<b>%{hovertext}</b><br><br>Party=Democratic Party<br>Year=1972<br>Populism=%{x}<br>Illiberalism=%{y}<br>Votes (%)=%{marker.size}<extra></extra>",
           "hovertext": [
            "Democratic Party"
           ],
           "ids": [
            "Democratic Party"
           ],
           "legendgroup": "Democratic Party",
           "marker": {
            "color": "#636efa",
            "size": [
             52.6
            ],
            "sizemode": "area",
            "sizeref": 0.14175000000000001,
            "symbol": "circle"
           },
           "mode": "markers",
           "name": "Democratic Party",
           "orientation": "v",
           "showlegend": true,
           "type": "scatter",
           "x": [
            0.353
           ],
           "xaxis": "x",
           "y": [
            0.122
           ],
           "yaxis": "y"
          },
          {
           "hovertemplate": "<b>%{hovertext}</b><br><br>Party=Republican Party<br>Year=1972<br>Populism=%{x}<br>Illiberalism=%{y}<br>Votes (%)=%{marker.size}<extra></extra>",
           "hovertext": [
            "Republican Party"
           ],
           "ids": [
            "Republican Party"
           ],
           "legendgroup": "Republican Party",
           "marker": {
            "color": "#EF553B",
            "size": [
             46.2
            ],
            "sizemode": "area",
            "sizeref": 0.14175000000000001,
            "symbol": "circle"
           },
           "mode": "markers",
           "name": "Republican Party",
           "orientation": "v",
           "showlegend": true,
           "type": "scatter",
           "x": [
            0.342
           ],
           "xaxis": "x",
           "y": [
            0.184
           ],
           "yaxis": "y"
          }
         ],
         "name": "1972"
        },
        {
         "data": [
          {
           "hovertemplate": "<b>%{hovertext}</b><br><br>Party=Democratic Party<br>Year=1974<br>Populism=%{x}<br>Illiberalism=%{y}<br>Votes (%)=%{marker.size}<extra></extra>",
           "hovertext": [
            "Democratic Party"
           ],
           "ids": [
            "Democratic Party"
           ],
           "legendgroup": "Democratic Party",
           "marker": {
            "color": "#636efa",
            "size": [
             55.6
            ],
            "sizemode": "area",
            "sizeref": 0.14175000000000001,
            "symbol": "circle"
           },
           "mode": "markers",
           "name": "Democratic Party",
           "orientation": "v",
           "showlegend": true,
           "type": "scatter",
           "x": [
            0.355
           ],
           "xaxis": "x",
           "y": [
            0.12300000000000001
           ],
           "yaxis": "y"
          },
          {
           "hovertemplate": "<b>%{hovertext}</b><br><br>Party=Republican Party<br>Year=1974<br>Populism=%{x}<br>Illiberalism=%{y}<br>Votes (%)=%{marker.size}<extra></extra>",
           "hovertext": [
            "Republican Party"
           ],
           "ids": [
            "Republican Party"
           ],
           "legendgroup": "Republican Party",
           "marker": {
            "color": "#EF553B",
            "size": [
             40.5
            ],
            "sizemode": "area",
            "sizeref": 0.14175000000000001,
            "symbol": "circle"
           },
           "mode": "markers",
           "name": "Republican Party",
           "orientation": "v",
           "showlegend": true,
           "type": "scatter",
           "x": [
            0.34
           ],
           "xaxis": "x",
           "y": [
            0.171
           ],
           "yaxis": "y"
          }
         ],
         "name": "1974"
        },
        {
         "data": [
          {
           "hovertemplate": "<b>%{hovertext}</b><br><br>Party=Democratic Party<br>Year=1976<br>Populism=%{x}<br>Illiberalism=%{y}<br>Votes (%)=%{marker.size}<extra></extra>",
           "hovertext": [
            "Democratic Party"
           ],
           "ids": [
            "Democratic Party"
           ],
           "legendgroup": "Democratic Party",
           "marker": {
            "color": "#636efa",
            "size": [
             56.7
            ],
            "sizemode": "area",
            "sizeref": 0.14175000000000001,
            "symbol": "circle"
           },
           "mode": "markers",
           "name": "Democratic Party",
           "orientation": "v",
           "showlegend": true,
           "type": "scatter",
           "x": [
            0.35
           ],
           "xaxis": "x",
           "y": [
            0.121
           ],
           "yaxis": "y"
          },
          {
           "hovertemplate": "<b>%{hovertext}</b><br><br>Party=Republican Party<br>Year=1976<br>Populism=%{x}<br>Illiberalism=%{y}<br>Votes (%)=%{marker.size}<extra></extra>",
           "hovertext": [
            "Republican Party"
           ],
           "ids": [
            "Republican Party"
           ],
           "legendgroup": "Republican Party",
           "marker": {
            "color": "#EF553B",
            "size": [
             41.7
            ],
            "sizemode": "area",
            "sizeref": 0.14175000000000001,
            "symbol": "circle"
           },
           "mode": "markers",
           "name": "Republican Party",
           "orientation": "v",
           "showlegend": true,
           "type": "scatter",
           "x": [
            0.34
           ],
           "xaxis": "x",
           "y": [
            0.156
           ],
           "yaxis": "y"
          }
         ],
         "name": "1976"
        },
        {
         "data": [
          {
           "hovertemplate": "<b>%{hovertext}</b><br><br>Party=Democratic Party<br>Year=1978<br>Populism=%{x}<br>Illiberalism=%{y}<br>Votes (%)=%{marker.size}<extra></extra>",
           "hovertext": [
            "Democratic Party"
           ],
           "ids": [
            "Democratic Party"
           ],
           "legendgroup": "Democratic Party",
           "marker": {
            "color": "#636efa",
            "size": [
             53.4
            ],
            "sizemode": "area",
            "sizeref": 0.14175000000000001,
            "symbol": "circle"
           },
           "mode": "markers",
           "name": "Democratic Party",
           "orientation": "v",
           "showlegend": true,
           "type": "scatter",
           "x": [
            0.35600000000000004
           ],
           "xaxis": "x",
           "y": [
            0.121
           ],
           "yaxis": "y"
          },
          {
           "hovertemplate": "<b>%{hovertext}</b><br><br>Party=Republican Party<br>Year=1978<br>Populism=%{x}<br>Illiberalism=%{y}<br>Votes (%)=%{marker.size}<extra></extra>",
           "hovertext": [
            "Republican Party"
           ],
           "ids": [
            "Republican Party"
           ],
           "legendgroup": "Republican Party",
           "marker": {
            "color": "#EF553B",
            "size": [
             44.7
            ],
            "sizemode": "area",
            "sizeref": 0.14175000000000001,
            "symbol": "circle"
           },
           "mode": "markers",
           "name": "Republican Party",
           "orientation": "v",
           "showlegend": true,
           "type": "scatter",
           "x": [
            0.33899999999999997
           ],
           "xaxis": "x",
           "y": [
            0.156
           ],
           "yaxis": "y"
          }
         ],
         "name": "1978"
        },
        {
         "data": [
          {
           "hovertemplate": "<b>%{hovertext}</b><br><br>Party=Democratic Party<br>Year=1980<br>Populism=%{x}<br>Illiberalism=%{y}<br>Votes (%)=%{marker.size}<extra></extra>",
           "hovertext": [
            "Democratic Party"
           ],
           "ids": [
            "Democratic Party"
           ],
           "legendgroup": "Democratic Party",
           "marker": {
            "color": "#636efa",
            "size": [
             50.6
            ],
            "sizemode": "area",
            "sizeref": 0.14175000000000001,
            "symbol": "circle"
           },
           "mode": "markers",
           "name": "Democratic Party",
           "orientation": "v",
           "showlegend": true,
           "type": "scatter",
           "x": [
            0.35600000000000004
           ],
           "xaxis": "x",
           "y": [
            0.115
           ],
           "yaxis": "y"
          },
          {
           "hovertemplate": "<b>%{hovertext}</b><br><br>Party=Republican Party<br>Year=1980<br>Populism=%{x}<br>Illiberalism=%{y}<br>Votes (%)=%{marker.size}<extra></extra>",
           "hovertext": [
            "Republican Party"
           ],
           "ids": [
            "Republican Party"
           ],
           "legendgroup": "Republican Party",
           "marker": {
            "color": "#EF553B",
            "size": [
             47.9
            ],
            "sizemode": "area",
            "sizeref": 0.14175000000000001,
            "symbol": "circle"
           },
           "mode": "markers",
           "name": "Republican Party",
           "orientation": "v",
           "showlegend": true,
           "type": "scatter",
           "x": [
            0.342
           ],
           "xaxis": "x",
           "y": [
            0.156
           ],
           "yaxis": "y"
          }
         ],
         "name": "1980"
        },
        {
         "data": [
          {
           "hovertemplate": "<b>%{hovertext}</b><br><br>Party=Democratic Party<br>Year=1982<br>Populism=%{x}<br>Illiberalism=%{y}<br>Votes (%)=%{marker.size}<extra></extra>",
           "hovertext": [
            "Democratic Party"
           ],
           "ids": [
            "Democratic Party"
           ],
           "legendgroup": "Democratic Party",
           "marker": {
            "color": "#636efa",
            "size": [
             55
            ],
            "sizemode": "area",
            "sizeref": 0.14175000000000001,
            "symbol": "circle"
           },
           "mode": "markers",
           "name": "Democratic Party",
           "orientation": "v",
           "showlegend": true,
           "type": "scatter",
           "x": [
            0.24
           ],
           "xaxis": "x",
           "y": [
            0.115
           ],
           "yaxis": "y"
          },
          {
           "hovertemplate": "<b>%{hovertext}</b><br><br>Party=Republican Party<br>Year=1982<br>Populism=%{x}<br>Illiberalism=%{y}<br>Votes (%)=%{marker.size}<extra></extra>",
           "hovertext": [
            "Republican Party"
           ],
           "ids": [
            "Republican Party"
           ],
           "legendgroup": "Republican Party",
           "marker": {
            "color": "#EF553B",
            "size": [
             43.2
            ],
            "sizemode": "area",
            "sizeref": 0.14175000000000001,
            "symbol": "circle"
           },
           "mode": "markers",
           "name": "Republican Party",
           "orientation": "v",
           "showlegend": true,
           "type": "scatter",
           "x": [
            0.342
           ],
           "xaxis": "x",
           "y": [
            0.156
           ],
           "yaxis": "y"
          }
         ],
         "name": "1982"
        },
        {
         "data": [
          {
           "hovertemplate": "<b>%{hovertext}</b><br><br>Party=Democratic Party<br>Year=1984<br>Populism=%{x}<br>Illiberalism=%{y}<br>Votes (%)=%{marker.size}<extra></extra>",
           "hovertext": [
            "Democratic Party"
           ],
           "ids": [
            "Democratic Party"
           ],
           "legendgroup": "Democratic Party",
           "marker": {
            "color": "#636efa",
            "size": [
             52.4
            ],
            "sizemode": "area",
            "sizeref": 0.14175000000000001,
            "symbol": "circle"
           },
           "mode": "markers",
           "name": "Democratic Party",
           "orientation": "v",
           "showlegend": true,
           "type": "scatter",
           "x": [
            0.24100000000000002
           ],
           "xaxis": "x",
           "y": [
            0.115
           ],
           "yaxis": "y"
          },
          {
           "hovertemplate": "<b>%{hovertext}</b><br><br>Party=Republican Party<br>Year=1984<br>Populism=%{x}<br>Illiberalism=%{y}<br>Votes (%)=%{marker.size}<extra></extra>",
           "hovertext": [
            "Republican Party"
           ],
           "ids": [
            "Republican Party"
           ],
           "legendgroup": "Republican Party",
           "marker": {
            "color": "#EF553B",
            "size": [
             46.8
            ],
            "sizemode": "area",
            "sizeref": 0.14175000000000001,
            "symbol": "circle"
           },
           "mode": "markers",
           "name": "Republican Party",
           "orientation": "v",
           "showlegend": true,
           "type": "scatter",
           "x": [
            0.245
           ],
           "xaxis": "x",
           "y": [
            0.157
           ],
           "yaxis": "y"
          }
         ],
         "name": "1984"
        },
        {
         "data": [
          {
           "hovertemplate": "<b>%{hovertext}</b><br><br>Party=Democratic Party<br>Year=1986<br>Populism=%{x}<br>Illiberalism=%{y}<br>Votes (%)=%{marker.size}<extra></extra>",
           "hovertext": [
            "Democratic Party"
           ],
           "ids": [
            "Democratic Party"
           ],
           "legendgroup": "Democratic Party",
           "marker": {
            "color": "#636efa",
            "size": [
             54.1
            ],
            "sizemode": "area",
            "sizeref": 0.14175000000000001,
            "symbol": "circle"
           },
           "mode": "markers",
           "name": "Democratic Party",
           "orientation": "v",
           "showlegend": true,
           "type": "scatter",
           "x": [
            0.35100000000000003
           ],
           "xaxis": "x",
           "y": [
            0.11800000000000001
           ],
           "yaxis": "y"
          },
          {
           "hovertemplate": "<b>%{hovertext}</b><br><br>Party=Republican Party<br>Year=1986<br>Populism=%{x}<br>Illiberalism=%{y}<br>Votes (%)=%{marker.size}<extra></extra>",
           "hovertext": [
            "Republican Party"
           ],
           "ids": [
            "Republican Party"
           ],
           "legendgroup": "Republican Party",
           "marker": {
            "color": "#EF553B",
            "size": [
             44.2
            ],
            "sizemode": "area",
            "sizeref": 0.14175000000000001,
            "symbol": "circle"
           },
           "mode": "markers",
           "name": "Republican Party",
           "orientation": "v",
           "showlegend": true,
           "type": "scatter",
           "x": [
            0.345
           ],
           "xaxis": "x",
           "y": [
            0.19399999999999998
           ],
           "yaxis": "y"
          }
         ],
         "name": "1986"
        },
        {
         "data": [
          {
           "hovertemplate": "<b>%{hovertext}</b><br><br>Party=Democratic Party<br>Year=1988<br>Populism=%{x}<br>Illiberalism=%{y}<br>Votes (%)=%{marker.size}<extra></extra>",
           "hovertext": [
            "Democratic Party"
           ],
           "ids": [
            "Democratic Party"
           ],
           "legendgroup": "Democratic Party",
           "marker": {
            "color": "#636efa",
            "size": [
             53.7
            ],
            "sizemode": "area",
            "sizeref": 0.14175000000000001,
            "symbol": "circle"
           },
           "mode": "markers",
           "name": "Democratic Party",
           "orientation": "v",
           "showlegend": true,
           "type": "scatter",
           "x": [
            0.35
           ],
           "xaxis": "x",
           "y": [
            0.12
           ],
           "yaxis": "y"
          },
          {
           "hovertemplate": "<b>%{hovertext}</b><br><br>Party=Republican Party<br>Year=1988<br>Populism=%{x}<br>Illiberalism=%{y}<br>Votes (%)=%{marker.size}<extra></extra>",
           "hovertext": [
            "Republican Party"
           ],
           "ids": [
            "Republican Party"
           ],
           "legendgroup": "Republican Party",
           "marker": {
            "color": "#EF553B",
            "size": [
             45.2
            ],
            "sizemode": "area",
            "sizeref": 0.14175000000000001,
            "symbol": "circle"
           },
           "mode": "markers",
           "name": "Republican Party",
           "orientation": "v",
           "showlegend": true,
           "type": "scatter",
           "x": [
            0.345
           ],
           "xaxis": "x",
           "y": [
            0.19
           ],
           "yaxis": "y"
          }
         ],
         "name": "1988"
        },
        {
         "data": [
          {
           "hovertemplate": "<b>%{hovertext}</b><br><br>Party=Democratic Party<br>Year=1990<br>Populism=%{x}<br>Illiberalism=%{y}<br>Votes (%)=%{marker.size}<extra></extra>",
           "hovertext": [
            "Democratic Party"
           ],
           "ids": [
            "Democratic Party"
           ],
           "legendgroup": "Democratic Party",
           "marker": {
            "color": "#636efa",
            "size": [
             52
            ],
            "sizemode": "area",
            "sizeref": 0.14175000000000001,
            "symbol": "circle"
           },
           "mode": "markers",
           "name": "Democratic Party",
           "orientation": "v",
           "showlegend": true,
           "type": "scatter",
           "x": [
            0.35
           ],
           "xaxis": "x",
           "y": [
            0.11699999999999999
           ],
           "yaxis": "y"
          },
          {
           "hovertemplate": "<b>%{hovertext}</b><br><br>Party=Republican Party<br>Year=1990<br>Populism=%{x}<br>Illiberalism=%{y}<br>Votes (%)=%{marker.size}<extra></extra>",
           "hovertext": [
            "Republican Party"
           ],
           "ids": [
            "Republican Party"
           ],
           "legendgroup": "Republican Party",
           "marker": {
            "color": "#EF553B",
            "size": [
             44
            ],
            "sizemode": "area",
            "sizeref": 0.14175000000000001,
            "symbol": "circle"
           },
           "mode": "markers",
           "name": "Republican Party",
           "orientation": "v",
           "showlegend": true,
           "type": "scatter",
           "x": [
            0.345
           ],
           "xaxis": "x",
           "y": [
            0.19
           ],
           "yaxis": "y"
          }
         ],
         "name": "1990"
        },
        {
         "data": [
          {
           "hovertemplate": "<b>%{hovertext}</b><br><br>Party=Democratic Party<br>Year=1992<br>Populism=%{x}<br>Illiberalism=%{y}<br>Votes (%)=%{marker.size}<extra></extra>",
           "hovertext": [
            "Democratic Party"
           ],
           "ids": [
            "Democratic Party"
           ],
           "legendgroup": "Democratic Party",
           "marker": {
            "color": "#636efa",
            "size": [
             50
            ],
            "sizemode": "area",
            "sizeref": 0.14175000000000001,
            "symbol": "circle"
           },
           "mode": "markers",
           "name": "Democratic Party",
           "orientation": "v",
           "showlegend": true,
           "type": "scatter",
           "x": [
            0.358
           ],
           "xaxis": "x",
           "y": [
            0.11699999999999999
           ],
           "yaxis": "y"
          },
          {
           "hovertemplate": "<b>%{hovertext}</b><br><br>Party=Republican Party<br>Year=1992<br>Populism=%{x}<br>Illiberalism=%{y}<br>Votes (%)=%{marker.size}<extra></extra>",
           "hovertext": [
            "Republican Party"
           ],
           "ids": [
            "Republican Party"
           ],
           "legendgroup": "Republican Party",
           "marker": {
            "color": "#EF553B",
            "size": [
             44.8
            ],
            "sizemode": "area",
            "sizeref": 0.14175000000000001,
            "symbol": "circle"
           },
           "mode": "markers",
           "name": "Republican Party",
           "orientation": "v",
           "showlegend": true,
           "type": "scatter",
           "x": [
            0.345
           ],
           "xaxis": "x",
           "y": [
            0.19
           ],
           "yaxis": "y"
          }
         ],
         "name": "1992"
        },
        {
         "data": [
          {
           "hovertemplate": "<b>%{hovertext}</b><br><br>Party=Democratic Party<br>Year=1994<br>Populism=%{x}<br>Illiberalism=%{y}<br>Votes (%)=%{marker.size}<extra></extra>",
           "hovertext": [
            "Democratic Party"
           ],
           "ids": [
            "Democratic Party"
           ],
           "legendgroup": "Democratic Party",
           "marker": {
            "color": "#636efa",
            "size": [
             44.8
            ],
            "sizemode": "area",
            "sizeref": 0.14175000000000001,
            "symbol": "circle"
           },
           "mode": "markers",
           "name": "Democratic Party",
           "orientation": "v",
           "showlegend": true,
           "type": "scatter",
           "x": [
            0.35200000000000004
           ],
           "xaxis": "x",
           "y": [
            0.11699999999999999
           ],
           "yaxis": "y"
          },
          {
           "hovertemplate": "<b>%{hovertext}</b><br><br>Party=Republican Party<br>Year=1994<br>Populism=%{x}<br>Illiberalism=%{y}<br>Votes (%)=%{marker.size}<extra></extra>",
           "hovertext": [
            "Republican Party"
           ],
           "ids": [
            "Republican Party"
           ],
           "legendgroup": "Republican Party",
           "marker": {
            "color": "#EF553B",
            "size": [
             51.5
            ],
            "sizemode": "area",
            "sizeref": 0.14175000000000001,
            "symbol": "circle"
           },
           "mode": "markers",
           "name": "Republican Party",
           "orientation": "v",
           "showlegend": true,
           "type": "scatter",
           "x": [
            0.342
           ],
           "xaxis": "x",
           "y": [
            0.19
           ],
           "yaxis": "y"
          }
         ],
         "name": "1994"
        },
        {
         "data": [
          {
           "hovertemplate": "<b>%{hovertext}</b><br><br>Party=Democratic Party<br>Year=1996<br>Populism=%{x}<br>Illiberalism=%{y}<br>Votes (%)=%{marker.size}<extra></extra>",
           "hovertext": [
            "Democratic Party"
           ],
           "ids": [
            "Democratic Party"
           ],
           "legendgroup": "Democratic Party",
           "marker": {
            "color": "#636efa",
            "size": [
             48.1
            ],
            "sizemode": "area",
            "sizeref": 0.14175000000000001,
            "symbol": "circle"
           },
           "mode": "markers",
           "name": "Democratic Party",
           "orientation": "v",
           "showlegend": true,
           "type": "scatter",
           "x": [
            0.35200000000000004
           ],
           "xaxis": "x",
           "y": [
            0.11699999999999999
           ],
           "yaxis": "y"
          },
          {
           "hovertemplate": "<b>%{hovertext}</b><br><br>Party=Republican Party<br>Year=1996<br>Populism=%{x}<br>Illiberalism=%{y}<br>Votes (%)=%{marker.size}<extra></extra>",
           "hovertext": [
            "Republican Party"
           ],
           "ids": [
            "Republican Party"
           ],
           "legendgroup": "Republican Party",
           "marker": {
            "color": "#EF553B",
            "size": [
             47.8
            ],
            "sizemode": "area",
            "sizeref": 0.14175000000000001,
            "symbol": "circle"
           },
           "mode": "markers",
           "name": "Republican Party",
           "orientation": "v",
           "showlegend": true,
           "type": "scatter",
           "x": [
            0.342
           ],
           "xaxis": "x",
           "y": [
            0.19
           ],
           "yaxis": "y"
          }
         ],
         "name": "1996"
        },
        {
         "data": [
          {
           "hovertemplate": "<b>%{hovertext}</b><br><br>Party=Democratic Party<br>Year=1998<br>Populism=%{x}<br>Illiberalism=%{y}<br>Votes (%)=%{marker.size}<extra></extra>",
           "hovertext": [
            "Democratic Party"
           ],
           "ids": [
            "Democratic Party"
           ],
           "legendgroup": "Democratic Party",
           "marker": {
            "color": "#636efa",
            "size": [
             47.1
            ],
            "sizemode": "area",
            "sizeref": 0.14175000000000001,
            "symbol": "circle"
           },
           "mode": "markers",
           "name": "Democratic Party",
           "orientation": "v",
           "showlegend": true,
           "type": "scatter",
           "x": [
            0.353
           ],
           "xaxis": "x",
           "y": [
            0.11699999999999999
           ],
           "yaxis": "y"
          },
          {
           "hovertemplate": "<b>%{hovertext}</b><br><br>Party=Republican Party<br>Year=1998<br>Populism=%{x}<br>Illiberalism=%{y}<br>Votes (%)=%{marker.size}<extra></extra>",
           "hovertext": [
            "Republican Party"
           ],
           "ids": [
            "Republican Party"
           ],
           "legendgroup": "Republican Party",
           "marker": {
            "color": "#EF553B",
            "size": [
             48
            ],
            "sizemode": "area",
            "sizeref": 0.14175000000000001,
            "symbol": "circle"
           },
           "mode": "markers",
           "name": "Republican Party",
           "orientation": "v",
           "showlegend": true,
           "type": "scatter",
           "x": [
            0.348
           ],
           "xaxis": "x",
           "y": [
            0.19
           ],
           "yaxis": "y"
          }
         ],
         "name": "1998"
        },
        {
         "data": [
          {
           "hovertemplate": "<b>%{hovertext}</b><br><br>Party=Democratic Party<br>Year=2000<br>Populism=%{x}<br>Illiberalism=%{y}<br>Votes (%)=%{marker.size}<extra></extra>",
           "hovertext": [
            "Democratic Party"
           ],
           "ids": [
            "Democratic Party"
           ],
           "legendgroup": "Democratic Party",
           "marker": {
            "color": "#636efa",
            "size": [
             47.3
            ],
            "sizemode": "area",
            "sizeref": 0.14175000000000001,
            "symbol": "circle"
           },
           "mode": "markers",
           "name": "Democratic Party",
           "orientation": "v",
           "showlegend": true,
           "type": "scatter",
           "x": [
            0.355
           ],
           "xaxis": "x",
           "y": [
            0.11699999999999999
           ],
           "yaxis": "y"
          },
          {
           "hovertemplate": "<b>%{hovertext}</b><br><br>Party=Republican Party<br>Year=2000<br>Populism=%{x}<br>Illiberalism=%{y}<br>Votes (%)=%{marker.size}<extra></extra>",
           "hovertext": [
            "Republican Party"
           ],
           "ids": [
            "Republican Party"
           ],
           "legendgroup": "Republican Party",
           "marker": {
            "color": "#EF553B",
            "size": [
             47
            ],
            "sizemode": "area",
            "sizeref": 0.14175000000000001,
            "symbol": "circle"
           },
           "mode": "markers",
           "name": "Republican Party",
           "orientation": "v",
           "showlegend": true,
           "type": "scatter",
           "x": [
            0.348
           ],
           "xaxis": "x",
           "y": [
            0.281
           ],
           "yaxis": "y"
          }
         ],
         "name": "2000"
        },
        {
         "data": [
          {
           "hovertemplate": "<b>%{hovertext}</b><br><br>Party=Democratic Party<br>Year=2002<br>Populism=%{x}<br>Illiberalism=%{y}<br>Votes (%)=%{marker.size}<extra></extra>",
           "hovertext": [
            "Democratic Party"
           ],
           "ids": [
            "Democratic Party"
           ],
           "legendgroup": "Democratic Party",
           "marker": {
            "color": "#636efa",
            "size": [
             45
            ],
            "sizemode": "area",
            "sizeref": 0.14175000000000001,
            "symbol": "circle"
           },
           "mode": "markers",
           "name": "Democratic Party",
           "orientation": "v",
           "showlegend": true,
           "type": "scatter",
           "x": [
            0.34700000000000003
           ],
           "xaxis": "x",
           "y": [
            0.11599999999999999
           ],
           "yaxis": "y"
          },
          {
           "hovertemplate": "<b>%{hovertext}</b><br><br>Party=Republican Party<br>Year=2002<br>Populism=%{x}<br>Illiberalism=%{y}<br>Votes (%)=%{marker.size}<extra></extra>",
           "hovertext": [
            "Republican Party"
           ],
           "ids": [
            "Republican Party"
           ],
           "legendgroup": "Republican Party",
           "marker": {
            "color": "#EF553B",
            "size": [
             49.7
            ],
            "sizemode": "area",
            "sizeref": 0.14175000000000001,
            "symbol": "circle"
           },
           "mode": "markers",
           "name": "Republican Party",
           "orientation": "v",
           "showlegend": true,
           "type": "scatter",
           "x": [
            0.33799999999999997
           ],
           "xaxis": "x",
           "y": [
            0.27
           ],
           "yaxis": "y"
          }
         ],
         "name": "2002"
        },
        {
         "data": [
          {
           "hovertemplate": "<b>%{hovertext}</b><br><br>Party=Democratic Party<br>Year=2004<br>Populism=%{x}<br>Illiberalism=%{y}<br>Votes (%)=%{marker.size}<extra></extra>",
           "hovertext": [
            "Democratic Party"
           ],
           "ids": [
            "Democratic Party"
           ],
           "legendgroup": "Democratic Party",
           "marker": {
            "color": "#636efa",
            "size": [
             46.5
            ],
            "sizemode": "area",
            "sizeref": 0.14175000000000001,
            "symbol": "circle"
           },
           "mode": "markers",
           "name": "Democratic Party",
           "orientation": "v",
           "showlegend": true,
           "type": "scatter",
           "x": [
            0.309
           ],
           "xaxis": "x",
           "y": [
            0.11599999999999999
           ],
           "yaxis": "y"
          },
          {
           "hovertemplate": "<b>%{hovertext}</b><br><br>Party=Republican Party<br>Year=2004<br>Populism=%{x}<br>Illiberalism=%{y}<br>Votes (%)=%{marker.size}<extra></extra>",
           "hovertext": [
            "Republican Party"
           ],
           "ids": [
            "Republican Party"
           ],
           "legendgroup": "Republican Party",
           "marker": {
            "color": "#EF553B",
            "size": [
             49.3
            ],
            "sizemode": "area",
            "sizeref": 0.14175000000000001,
            "symbol": "circle"
           },
           "mode": "markers",
           "name": "Republican Party",
           "orientation": "v",
           "showlegend": true,
           "type": "scatter",
           "x": [
            0.304
           ],
           "xaxis": "x",
           "y": [
            0.27
           ],
           "yaxis": "y"
          }
         ],
         "name": "2004"
        },
        {
         "data": [
          {
           "hovertemplate": "<b>%{hovertext}</b><br><br>Party=Democratic Party<br>Year=2006<br>Populism=%{x}<br>Illiberalism=%{y}<br>Votes (%)=%{marker.size}<extra></extra>",
           "hovertext": [
            "Democratic Party"
           ],
           "ids": [
            "Democratic Party"
           ],
           "legendgroup": "Democratic Party",
           "marker": {
            "color": "#636efa",
            "size": [
             52.3
            ],
            "sizemode": "area",
            "sizeref": 0.14175000000000001,
            "symbol": "circle"
           },
           "mode": "markers",
           "name": "Democratic Party",
           "orientation": "v",
           "showlegend": true,
           "type": "scatter",
           "x": [
            0.309
           ],
           "xaxis": "x",
           "y": [
            0.11599999999999999
           ],
           "yaxis": "y"
          },
          {
           "hovertemplate": "<b>%{hovertext}</b><br><br>Party=Republican Party<br>Year=2006<br>Populism=%{x}<br>Illiberalism=%{y}<br>Votes (%)=%{marker.size}<extra></extra>",
           "hovertext": [
            "Republican Party"
           ],
           "ids": [
            "Republican Party"
           ],
           "legendgroup": "Republican Party",
           "marker": {
            "color": "#EF553B",
            "size": [
             44.3
            ],
            "sizemode": "area",
            "sizeref": 0.14175000000000001,
            "symbol": "circle"
           },
           "mode": "markers",
           "name": "Republican Party",
           "orientation": "v",
           "showlegend": true,
           "type": "scatter",
           "x": [
            0.304
           ],
           "xaxis": "x",
           "y": [
            0.314
           ],
           "yaxis": "y"
          }
         ],
         "name": "2006"
        },
        {
         "data": [
          {
           "hovertemplate": "<b>%{hovertext}</b><br><br>Party=Democratic Party<br>Year=2008<br>Populism=%{x}<br>Illiberalism=%{y}<br>Votes (%)=%{marker.size}<extra></extra>",
           "hovertext": [
            "Democratic Party"
           ],
           "ids": [
            "Democratic Party"
           ],
           "legendgroup": "Democratic Party",
           "marker": {
            "color": "#636efa",
            "size": [
             52.9
            ],
            "sizemode": "area",
            "sizeref": 0.14175000000000001,
            "symbol": "circle"
           },
           "mode": "markers",
           "name": "Democratic Party",
           "orientation": "v",
           "showlegend": true,
           "type": "scatter",
           "x": [
            0.374
           ],
           "xaxis": "x",
           "y": [
            0.124
           ],
           "yaxis": "y"
          },
          {
           "hovertemplate": "<b>%{hovertext}</b><br><br>Party=Republican Party<br>Year=2008<br>Populism=%{x}<br>Illiberalism=%{y}<br>Votes (%)=%{marker.size}<extra></extra>",
           "hovertext": [
            "Republican Party"
           ],
           "ids": [
            "Republican Party"
           ],
           "legendgroup": "Republican Party",
           "marker": {
            "color": "#EF553B",
            "size": [
             42.4
            ],
            "sizemode": "area",
            "sizeref": 0.14175000000000001,
            "symbol": "circle"
           },
           "mode": "markers",
           "name": "Republican Party",
           "orientation": "v",
           "showlegend": true,
           "type": "scatter",
           "x": [
            0.361
           ],
           "xaxis": "x",
           "y": [
            0.32799999999999996
           ],
           "yaxis": "y"
          }
         ],
         "name": "2008"
        },
        {
         "data": [
          {
           "hovertemplate": "<b>%{hovertext}</b><br><br>Party=Democratic Party<br>Year=2010<br>Populism=%{x}<br>Illiberalism=%{y}<br>Votes (%)=%{marker.size}<extra></extra>",
           "hovertext": [
            "Democratic Party"
           ],
           "ids": [
            "Democratic Party"
           ],
           "legendgroup": "Democratic Party",
           "marker": {
            "color": "#636efa",
            "size": [
             44.9
            ],
            "sizemode": "area",
            "sizeref": 0.14175000000000001,
            "symbol": "circle"
           },
           "mode": "markers",
           "name": "Democratic Party",
           "orientation": "v",
           "showlegend": true,
           "type": "scatter",
           "x": [
            0.324
           ],
           "xaxis": "x",
           "y": [
            0.11800000000000001
           ],
           "yaxis": "y"
          },
          {
           "hovertemplate": "<b>%{hovertext}</b><br><br>Party=Republican Party<br>Year=2010<br>Populism=%{x}<br>Illiberalism=%{y}<br>Votes (%)=%{marker.size}<extra></extra>",
           "hovertext": [
            "Republican Party"
           ],
           "ids": [
            "Republican Party"
           ],
           "legendgroup": "Republican Party",
           "marker": {
            "color": "#EF553B",
            "size": [
             51.7
            ],
            "sizemode": "area",
            "sizeref": 0.14175000000000001,
            "symbol": "circle"
           },
           "mode": "markers",
           "name": "Republican Party",
           "orientation": "v",
           "showlegend": true,
           "type": "scatter",
           "x": [
            0.612
           ],
           "xaxis": "x",
           "y": [
            0.315
           ],
           "yaxis": "y"
          }
         ],
         "name": "2010"
        },
        {
         "data": [
          {
           "hovertemplate": "<b>%{hovertext}</b><br><br>Party=Democratic Party<br>Year=2012<br>Populism=%{x}<br>Illiberalism=%{y}<br>Votes (%)=%{marker.size}<extra></extra>",
           "hovertext": [
            "Democratic Party"
           ],
           "ids": [
            "Democratic Party"
           ],
           "legendgroup": "Democratic Party",
           "marker": {
            "color": "#636efa",
            "size": [
             48.7
            ],
            "sizemode": "area",
            "sizeref": 0.14175000000000001,
            "symbol": "circle"
           },
           "mode": "markers",
           "name": "Democratic Party",
           "orientation": "v",
           "showlegend": true,
           "type": "scatter",
           "x": [
            0.253
           ],
           "xaxis": "x",
           "y": [
            0.11800000000000001
           ],
           "yaxis": "y"
          },
          {
           "hovertemplate": "<b>%{hovertext}</b><br><br>Party=Republican Party<br>Year=2012<br>Populism=%{x}<br>Illiberalism=%{y}<br>Votes (%)=%{marker.size}<extra></extra>",
           "hovertext": [
            "Republican Party"
           ],
           "ids": [
            "Republican Party"
           ],
           "legendgroup": "Republican Party",
           "marker": {
            "color": "#EF553B",
            "size": [
             48.5
            ],
            "sizemode": "area",
            "sizeref": 0.14175000000000001,
            "symbol": "circle"
           },
           "mode": "markers",
           "name": "Republican Party",
           "orientation": "v",
           "showlegend": true,
           "type": "scatter",
           "x": [
            0.545
           ],
           "xaxis": "x",
           "y": [
            0.38
           ],
           "yaxis": "y"
          }
         ],
         "name": "2012"
        },
        {
         "data": [
          {
           "hovertemplate": "<b>%{hovertext}</b><br><br>Party=Democratic Party<br>Year=2014<br>Populism=%{x}<br>Illiberalism=%{y}<br>Votes (%)=%{marker.size}<extra></extra>",
           "hovertext": [
            "Democratic Party"
           ],
           "ids": [
            "Democratic Party"
           ],
           "legendgroup": "Democratic Party",
           "marker": {
            "color": "#636efa",
            "size": [
             45.5
            ],
            "sizemode": "area",
            "sizeref": 0.14175000000000001,
            "symbol": "circle"
           },
           "mode": "markers",
           "name": "Democratic Party",
           "orientation": "v",
           "showlegend": true,
           "type": "scatter",
           "x": [
            0.259
           ],
           "xaxis": "x",
           "y": [
            0.11800000000000001
           ],
           "yaxis": "y"
          },
          {
           "hovertemplate": "<b>%{hovertext}</b><br><br>Party=Republican Party<br>Year=2014<br>Populism=%{x}<br>Illiberalism=%{y}<br>Votes (%)=%{marker.size}<extra></extra>",
           "hovertext": [
            "Republican Party"
           ],
           "ids": [
            "Republican Party"
           ],
           "legendgroup": "Republican Party",
           "marker": {
            "color": "#EF553B",
            "size": [
             51.2
            ],
            "sizemode": "area",
            "sizeref": 0.14175000000000001,
            "symbol": "circle"
           },
           "mode": "markers",
           "name": "Republican Party",
           "orientation": "v",
           "showlegend": true,
           "type": "scatter",
           "x": [
            0.552
           ],
           "xaxis": "x",
           "y": [
            0.41600000000000004
           ],
           "yaxis": "y"
          }
         ],
         "name": "2014"
        },
        {
         "data": [
          {
           "hovertemplate": "<b>%{hovertext}</b><br><br>Party=Democratic Party<br>Year=2016<br>Populism=%{x}<br>Illiberalism=%{y}<br>Votes (%)=%{marker.size}<extra></extra>",
           "hovertext": [
            "Democratic Party"
           ],
           "ids": [
            "Democratic Party"
           ],
           "legendgroup": "Democratic Party",
           "marker": {
            "color": "#636efa",
            "size": [
             49.4
            ],
            "sizemode": "area",
            "sizeref": 0.14175000000000001,
            "symbol": "circle"
           },
           "mode": "markers",
           "name": "Democratic Party",
           "orientation": "v",
           "showlegend": true,
           "type": "scatter",
           "x": [
            0.322
           ],
           "xaxis": "x",
           "y": [
            0.125
           ],
           "yaxis": "y"
          },
          {
           "hovertemplate": "<b>%{hovertext}</b><br><br>Party=Republican Party<br>Year=2016<br>Populism=%{x}<br>Illiberalism=%{y}<br>Votes (%)=%{marker.size}<extra></extra>",
           "hovertext": [
            "Republican Party"
           ],
           "ids": [
            "Republican Party"
           ],
           "legendgroup": "Republican Party",
           "marker": {
            "color": "#EF553B",
            "size": [
             50.6
            ],
            "sizemode": "area",
            "sizeref": 0.14175000000000001,
            "symbol": "circle"
           },
           "mode": "markers",
           "name": "Republican Party",
           "orientation": "v",
           "showlegend": true,
           "type": "scatter",
           "x": [
            0.6859999999999999
           ],
           "xaxis": "x",
           "y": [
            0.687
           ],
           "yaxis": "y"
          }
         ],
         "name": "2016"
        },
        {
         "data": [
          {
           "hovertemplate": "<b>%{hovertext}</b><br><br>Party=Democratic Party<br>Year=2018<br>Populism=%{x}<br>Illiberalism=%{y}<br>Votes (%)=%{marker.size}<extra></extra>",
           "hovertext": [
            "Democratic Party"
           ],
           "ids": [
            "Democratic Party"
           ],
           "legendgroup": "Democratic Party",
           "marker": {
            "color": "#636efa",
            "size": [
             54.4
            ],
            "sizemode": "area",
            "sizeref": 0.14175000000000001,
            "symbol": "circle"
           },
           "mode": "markers",
           "name": "Democratic Party",
           "orientation": "v",
           "showlegend": true,
           "type": "scatter",
           "x": [
            0.405
           ],
           "xaxis": "x",
           "y": [
            0.11800000000000001
           ],
           "yaxis": "y"
          },
          {
           "hovertemplate": "<b>%{hovertext}</b><br><br>Party=Republican Party<br>Year=2018<br>Populism=%{x}<br>Illiberalism=%{y}<br>Votes (%)=%{marker.size}<extra></extra>",
           "hovertext": [
            "Republican Party"
           ],
           "ids": [
            "Republican Party"
           ],
           "legendgroup": "Republican Party",
           "marker": {
            "color": "#EF553B",
            "size": [
             45.6
            ],
            "sizemode": "area",
            "sizeref": 0.14175000000000001,
            "symbol": "circle"
           },
           "mode": "markers",
           "name": "Republican Party",
           "orientation": "v",
           "showlegend": true,
           "type": "scatter",
           "x": [
            0.799
           ],
           "xaxis": "x",
           "y": [
            0.69
           ],
           "yaxis": "y"
          }
         ],
         "name": "2018"
        }
       ],
       "layout": {
        "annotations": [
         {
          "font": {
           "color": "black",
           "size": 15
          },
          "showarrow": false,
          "text": "Left Leaning Democracies",
          "x": 0.25,
          "y": 0.21
         },
         {
          "font": {
           "color": "black",
           "size": 15
          },
          "showarrow": false,
          "text": "Right Leaning Democracies",
          "x": 0.75,
          "y": 0.21
         },
         {
          "font": {
           "color": "black",
           "size": 15
          },
          "showarrow": false,
          "text": "Left Leaning Autocracies",
          "x": 0.25,
          "y": 0.96
         },
         {
          "font": {
           "color": "black",
           "size": 15
          },
          "showarrow": false,
          "text": "Right Leaning Autocracies",
          "x": 0.75,
          "y": 0.96
         }
        ],
        "legend": {
         "itemsizing": "constant",
         "title": {
          "text": "Party"
         },
         "tracegroupgap": 0
        },
        "margin": {
         "t": 60
        },
        "shapes": [
         {
          "line": {
           "color": "black",
           "width": 1
          },
          "type": "line",
          "x0": 0.5,
          "x1": 0.5,
          "y0": 0,
          "y1": 1
         },
         {
          "line": {
           "color": "black",
           "width": 1
          },
          "type": "line",
          "x0": 0,
          "x1": 1,
          "y0": 0.25,
          "y1": 0.25
         }
        ],
        "sliders": [
         {
          "active": 0,
          "currentvalue": {
           "prefix": "Year="
          },
          "len": 0.9,
          "pad": {
           "b": 10,
           "t": 60
          },
          "steps": [
           {
            "args": [
             [
              "1970"
             ],
             {
              "frame": {
               "duration": 0,
               "redraw": false
              },
              "fromcurrent": true,
              "mode": "immediate",
              "transition": {
               "duration": 0,
               "easing": "linear"
              }
             }
            ],
            "label": "1970",
            "method": "animate"
           },
           {
            "args": [
             [
              "1972"
             ],
             {
              "frame": {
               "duration": 0,
               "redraw": false
              },
              "fromcurrent": true,
              "mode": "immediate",
              "transition": {
               "duration": 0,
               "easing": "linear"
              }
             }
            ],
            "label": "1972",
            "method": "animate"
           },
           {
            "args": [
             [
              "1974"
             ],
             {
              "frame": {
               "duration": 0,
               "redraw": false
              },
              "fromcurrent": true,
              "mode": "immediate",
              "transition": {
               "duration": 0,
               "easing": "linear"
              }
             }
            ],
            "label": "1974",
            "method": "animate"
           },
           {
            "args": [
             [
              "1976"
             ],
             {
              "frame": {
               "duration": 0,
               "redraw": false
              },
              "fromcurrent": true,
              "mode": "immediate",
              "transition": {
               "duration": 0,
               "easing": "linear"
              }
             }
            ],
            "label": "1976",
            "method": "animate"
           },
           {
            "args": [
             [
              "1978"
             ],
             {
              "frame": {
               "duration": 0,
               "redraw": false
              },
              "fromcurrent": true,
              "mode": "immediate",
              "transition": {
               "duration": 0,
               "easing": "linear"
              }
             }
            ],
            "label": "1978",
            "method": "animate"
           },
           {
            "args": [
             [
              "1980"
             ],
             {
              "frame": {
               "duration": 0,
               "redraw": false
              },
              "fromcurrent": true,
              "mode": "immediate",
              "transition": {
               "duration": 0,
               "easing": "linear"
              }
             }
            ],
            "label": "1980",
            "method": "animate"
           },
           {
            "args": [
             [
              "1982"
             ],
             {
              "frame": {
               "duration": 0,
               "redraw": false
              },
              "fromcurrent": true,
              "mode": "immediate",
              "transition": {
               "duration": 0,
               "easing": "linear"
              }
             }
            ],
            "label": "1982",
            "method": "animate"
           },
           {
            "args": [
             [
              "1984"
             ],
             {
              "frame": {
               "duration": 0,
               "redraw": false
              },
              "fromcurrent": true,
              "mode": "immediate",
              "transition": {
               "duration": 0,
               "easing": "linear"
              }
             }
            ],
            "label": "1984",
            "method": "animate"
           },
           {
            "args": [
             [
              "1986"
             ],
             {
              "frame": {
               "duration": 0,
               "redraw": false
              },
              "fromcurrent": true,
              "mode": "immediate",
              "transition": {
               "duration": 0,
               "easing": "linear"
              }
             }
            ],
            "label": "1986",
            "method": "animate"
           },
           {
            "args": [
             [
              "1988"
             ],
             {
              "frame": {
               "duration": 0,
               "redraw": false
              },
              "fromcurrent": true,
              "mode": "immediate",
              "transition": {
               "duration": 0,
               "easing": "linear"
              }
             }
            ],
            "label": "1988",
            "method": "animate"
           },
           {
            "args": [
             [
              "1990"
             ],
             {
              "frame": {
               "duration": 0,
               "redraw": false
              },
              "fromcurrent": true,
              "mode": "immediate",
              "transition": {
               "duration": 0,
               "easing": "linear"
              }
             }
            ],
            "label": "1990",
            "method": "animate"
           },
           {
            "args": [
             [
              "1992"
             ],
             {
              "frame": {
               "duration": 0,
               "redraw": false
              },
              "fromcurrent": true,
              "mode": "immediate",
              "transition": {
               "duration": 0,
               "easing": "linear"
              }
             }
            ],
            "label": "1992",
            "method": "animate"
           },
           {
            "args": [
             [
              "1994"
             ],
             {
              "frame": {
               "duration": 0,
               "redraw": false
              },
              "fromcurrent": true,
              "mode": "immediate",
              "transition": {
               "duration": 0,
               "easing": "linear"
              }
             }
            ],
            "label": "1994",
            "method": "animate"
           },
           {
            "args": [
             [
              "1996"
             ],
             {
              "frame": {
               "duration": 0,
               "redraw": false
              },
              "fromcurrent": true,
              "mode": "immediate",
              "transition": {
               "duration": 0,
               "easing": "linear"
              }
             }
            ],
            "label": "1996",
            "method": "animate"
           },
           {
            "args": [
             [
              "1998"
             ],
             {
              "frame": {
               "duration": 0,
               "redraw": false
              },
              "fromcurrent": true,
              "mode": "immediate",
              "transition": {
               "duration": 0,
               "easing": "linear"
              }
             }
            ],
            "label": "1998",
            "method": "animate"
           },
           {
            "args": [
             [
              "2000"
             ],
             {
              "frame": {
               "duration": 0,
               "redraw": false
              },
              "fromcurrent": true,
              "mode": "immediate",
              "transition": {
               "duration": 0,
               "easing": "linear"
              }
             }
            ],
            "label": "2000",
            "method": "animate"
           },
           {
            "args": [
             [
              "2002"
             ],
             {
              "frame": {
               "duration": 0,
               "redraw": false
              },
              "fromcurrent": true,
              "mode": "immediate",
              "transition": {
               "duration": 0,
               "easing": "linear"
              }
             }
            ],
            "label": "2002",
            "method": "animate"
           },
           {
            "args": [
             [
              "2004"
             ],
             {
              "frame": {
               "duration": 0,
               "redraw": false
              },
              "fromcurrent": true,
              "mode": "immediate",
              "transition": {
               "duration": 0,
               "easing": "linear"
              }
             }
            ],
            "label": "2004",
            "method": "animate"
           },
           {
            "args": [
             [
              "2006"
             ],
             {
              "frame": {
               "duration": 0,
               "redraw": false
              },
              "fromcurrent": true,
              "mode": "immediate",
              "transition": {
               "duration": 0,
               "easing": "linear"
              }
             }
            ],
            "label": "2006",
            "method": "animate"
           },
           {
            "args": [
             [
              "2008"
             ],
             {
              "frame": {
               "duration": 0,
               "redraw": false
              },
              "fromcurrent": true,
              "mode": "immediate",
              "transition": {
               "duration": 0,
               "easing": "linear"
              }
             }
            ],
            "label": "2008",
            "method": "animate"
           },
           {
            "args": [
             [
              "2010"
             ],
             {
              "frame": {
               "duration": 0,
               "redraw": false
              },
              "fromcurrent": true,
              "mode": "immediate",
              "transition": {
               "duration": 0,
               "easing": "linear"
              }
             }
            ],
            "label": "2010",
            "method": "animate"
           },
           {
            "args": [
             [
              "2012"
             ],
             {
              "frame": {
               "duration": 0,
               "redraw": false
              },
              "fromcurrent": true,
              "mode": "immediate",
              "transition": {
               "duration": 0,
               "easing": "linear"
              }
             }
            ],
            "label": "2012",
            "method": "animate"
           },
           {
            "args": [
             [
              "2014"
             ],
             {
              "frame": {
               "duration": 0,
               "redraw": false
              },
              "fromcurrent": true,
              "mode": "immediate",
              "transition": {
               "duration": 0,
               "easing": "linear"
              }
             }
            ],
            "label": "2014",
            "method": "animate"
           },
           {
            "args": [
             [
              "2016"
             ],
             {
              "frame": {
               "duration": 0,
               "redraw": false
              },
              "fromcurrent": true,
              "mode": "immediate",
              "transition": {
               "duration": 0,
               "easing": "linear"
              }
             }
            ],
            "label": "2016",
            "method": "animate"
           },
           {
            "args": [
             [
              "2018"
             ],
             {
              "frame": {
               "duration": 0,
               "redraw": false
              },
              "fromcurrent": true,
              "mode": "immediate",
              "transition": {
               "duration": 0,
               "easing": "linear"
              }
             }
            ],
            "label": "2018",
            "method": "animate"
           }
          ],
          "x": 0.1,
          "xanchor": "left",
          "y": 0,
          "yanchor": "top"
         }
        ],
        "template": {
         "data": {
          "bar": [
           {
            "error_x": {
             "color": "#2a3f5f"
            },
            "error_y": {
             "color": "#2a3f5f"
            },
            "marker": {
             "line": {
              "color": "#E5ECF6",
              "width": 0.5
             }
            },
            "type": "bar"
           }
          ],
          "barpolar": [
           {
            "marker": {
             "line": {
              "color": "#E5ECF6",
              "width": 0.5
             }
            },
            "type": "barpolar"
           }
          ],
          "carpet": [
           {
            "aaxis": {
             "endlinecolor": "#2a3f5f",
             "gridcolor": "white",
             "linecolor": "white",
             "minorgridcolor": "white",
             "startlinecolor": "#2a3f5f"
            },
            "baxis": {
             "endlinecolor": "#2a3f5f",
             "gridcolor": "white",
             "linecolor": "white",
             "minorgridcolor": "white",
             "startlinecolor": "#2a3f5f"
            },
            "type": "carpet"
           }
          ],
          "choropleth": [
           {
            "colorbar": {
             "outlinewidth": 0,
             "ticks": ""
            },
            "type": "choropleth"
           }
          ],
          "contour": [
           {
            "colorbar": {
             "outlinewidth": 0,
             "ticks": ""
            },
            "colorscale": [
             [
              0,
              "#0d0887"
             ],
             [
              0.1111111111111111,
              "#46039f"
             ],
             [
              0.2222222222222222,
              "#7201a8"
             ],
             [
              0.3333333333333333,
              "#9c179e"
             ],
             [
              0.4444444444444444,
              "#bd3786"
             ],
             [
              0.5555555555555556,
              "#d8576b"
             ],
             [
              0.6666666666666666,
              "#ed7953"
             ],
             [
              0.7777777777777778,
              "#fb9f3a"
             ],
             [
              0.8888888888888888,
              "#fdca26"
             ],
             [
              1,
              "#f0f921"
             ]
            ],
            "type": "contour"
           }
          ],
          "contourcarpet": [
           {
            "colorbar": {
             "outlinewidth": 0,
             "ticks": ""
            },
            "type": "contourcarpet"
           }
          ],
          "heatmap": [
           {
            "colorbar": {
             "outlinewidth": 0,
             "ticks": ""
            },
            "colorscale": [
             [
              0,
              "#0d0887"
             ],
             [
              0.1111111111111111,
              "#46039f"
             ],
             [
              0.2222222222222222,
              "#7201a8"
             ],
             [
              0.3333333333333333,
              "#9c179e"
             ],
             [
              0.4444444444444444,
              "#bd3786"
             ],
             [
              0.5555555555555556,
              "#d8576b"
             ],
             [
              0.6666666666666666,
              "#ed7953"
             ],
             [
              0.7777777777777778,
              "#fb9f3a"
             ],
             [
              0.8888888888888888,
              "#fdca26"
             ],
             [
              1,
              "#f0f921"
             ]
            ],
            "type": "heatmap"
           }
          ],
          "heatmapgl": [
           {
            "colorbar": {
             "outlinewidth": 0,
             "ticks": ""
            },
            "colorscale": [
             [
              0,
              "#0d0887"
             ],
             [
              0.1111111111111111,
              "#46039f"
             ],
             [
              0.2222222222222222,
              "#7201a8"
             ],
             [
              0.3333333333333333,
              "#9c179e"
             ],
             [
              0.4444444444444444,
              "#bd3786"
             ],
             [
              0.5555555555555556,
              "#d8576b"
             ],
             [
              0.6666666666666666,
              "#ed7953"
             ],
             [
              0.7777777777777778,
              "#fb9f3a"
             ],
             [
              0.8888888888888888,
              "#fdca26"
             ],
             [
              1,
              "#f0f921"
             ]
            ],
            "type": "heatmapgl"
           }
          ],
          "histogram": [
           {
            "marker": {
             "colorbar": {
              "outlinewidth": 0,
              "ticks": ""
             }
            },
            "type": "histogram"
           }
          ],
          "histogram2d": [
           {
            "colorbar": {
             "outlinewidth": 0,
             "ticks": ""
            },
            "colorscale": [
             [
              0,
              "#0d0887"
             ],
             [
              0.1111111111111111,
              "#46039f"
             ],
             [
              0.2222222222222222,
              "#7201a8"
             ],
             [
              0.3333333333333333,
              "#9c179e"
             ],
             [
              0.4444444444444444,
              "#bd3786"
             ],
             [
              0.5555555555555556,
              "#d8576b"
             ],
             [
              0.6666666666666666,
              "#ed7953"
             ],
             [
              0.7777777777777778,
              "#fb9f3a"
             ],
             [
              0.8888888888888888,
              "#fdca26"
             ],
             [
              1,
              "#f0f921"
             ]
            ],
            "type": "histogram2d"
           }
          ],
          "histogram2dcontour": [
           {
            "colorbar": {
             "outlinewidth": 0,
             "ticks": ""
            },
            "colorscale": [
             [
              0,
              "#0d0887"
             ],
             [
              0.1111111111111111,
              "#46039f"
             ],
             [
              0.2222222222222222,
              "#7201a8"
             ],
             [
              0.3333333333333333,
              "#9c179e"
             ],
             [
              0.4444444444444444,
              "#bd3786"
             ],
             [
              0.5555555555555556,
              "#d8576b"
             ],
             [
              0.6666666666666666,
              "#ed7953"
             ],
             [
              0.7777777777777778,
              "#fb9f3a"
             ],
             [
              0.8888888888888888,
              "#fdca26"
             ],
             [
              1,
              "#f0f921"
             ]
            ],
            "type": "histogram2dcontour"
           }
          ],
          "mesh3d": [
           {
            "colorbar": {
             "outlinewidth": 0,
             "ticks": ""
            },
            "type": "mesh3d"
           }
          ],
          "parcoords": [
           {
            "line": {
             "colorbar": {
              "outlinewidth": 0,
              "ticks": ""
             }
            },
            "type": "parcoords"
           }
          ],
          "pie": [
           {
            "automargin": true,
            "type": "pie"
           }
          ],
          "scatter": [
           {
            "marker": {
             "colorbar": {
              "outlinewidth": 0,
              "ticks": ""
             }
            },
            "type": "scatter"
           }
          ],
          "scatter3d": [
           {
            "line": {
             "colorbar": {
              "outlinewidth": 0,
              "ticks": ""
             }
            },
            "marker": {
             "colorbar": {
              "outlinewidth": 0,
              "ticks": ""
             }
            },
            "type": "scatter3d"
           }
          ],
          "scattercarpet": [
           {
            "marker": {
             "colorbar": {
              "outlinewidth": 0,
              "ticks": ""
             }
            },
            "type": "scattercarpet"
           }
          ],
          "scattergeo": [
           {
            "marker": {
             "colorbar": {
              "outlinewidth": 0,
              "ticks": ""
             }
            },
            "type": "scattergeo"
           }
          ],
          "scattergl": [
           {
            "marker": {
             "colorbar": {
              "outlinewidth": 0,
              "ticks": ""
             }
            },
            "type": "scattergl"
           }
          ],
          "scattermapbox": [
           {
            "marker": {
             "colorbar": {
              "outlinewidth": 0,
              "ticks": ""
             }
            },
            "type": "scattermapbox"
           }
          ],
          "scatterpolar": [
           {
            "marker": {
             "colorbar": {
              "outlinewidth": 0,
              "ticks": ""
             }
            },
            "type": "scatterpolar"
           }
          ],
          "scatterpolargl": [
           {
            "marker": {
             "colorbar": {
              "outlinewidth": 0,
              "ticks": ""
             }
            },
            "type": "scatterpolargl"
           }
          ],
          "scatterternary": [
           {
            "marker": {
             "colorbar": {
              "outlinewidth": 0,
              "ticks": ""
             }
            },
            "type": "scatterternary"
           }
          ],
          "surface": [
           {
            "colorbar": {
             "outlinewidth": 0,
             "ticks": ""
            },
            "colorscale": [
             [
              0,
              "#0d0887"
             ],
             [
              0.1111111111111111,
              "#46039f"
             ],
             [
              0.2222222222222222,
              "#7201a8"
             ],
             [
              0.3333333333333333,
              "#9c179e"
             ],
             [
              0.4444444444444444,
              "#bd3786"
             ],
             [
              0.5555555555555556,
              "#d8576b"
             ],
             [
              0.6666666666666666,
              "#ed7953"
             ],
             [
              0.7777777777777778,
              "#fb9f3a"
             ],
             [
              0.8888888888888888,
              "#fdca26"
             ],
             [
              1,
              "#f0f921"
             ]
            ],
            "type": "surface"
           }
          ],
          "table": [
           {
            "cells": {
             "fill": {
              "color": "#EBF0F8"
             },
             "line": {
              "color": "white"
             }
            },
            "header": {
             "fill": {
              "color": "#C8D4E3"
             },
             "line": {
              "color": "white"
             }
            },
            "type": "table"
           }
          ]
         },
         "layout": {
          "annotationdefaults": {
           "arrowcolor": "#2a3f5f",
           "arrowhead": 0,
           "arrowwidth": 1
          },
          "coloraxis": {
           "colorbar": {
            "outlinewidth": 0,
            "ticks": ""
           }
          },
          "colorscale": {
           "diverging": [
            [
             0,
             "#8e0152"
            ],
            [
             0.1,
             "#c51b7d"
            ],
            [
             0.2,
             "#de77ae"
            ],
            [
             0.3,
             "#f1b6da"
            ],
            [
             0.4,
             "#fde0ef"
            ],
            [
             0.5,
             "#f7f7f7"
            ],
            [
             0.6,
             "#e6f5d0"
            ],
            [
             0.7,
             "#b8e186"
            ],
            [
             0.8,
             "#7fbc41"
            ],
            [
             0.9,
             "#4d9221"
            ],
            [
             1,
             "#276419"
            ]
           ],
           "sequential": [
            [
             0,
             "#0d0887"
            ],
            [
             0.1111111111111111,
             "#46039f"
            ],
            [
             0.2222222222222222,
             "#7201a8"
            ],
            [
             0.3333333333333333,
             "#9c179e"
            ],
            [
             0.4444444444444444,
             "#bd3786"
            ],
            [
             0.5555555555555556,
             "#d8576b"
            ],
            [
             0.6666666666666666,
             "#ed7953"
            ],
            [
             0.7777777777777778,
             "#fb9f3a"
            ],
            [
             0.8888888888888888,
             "#fdca26"
            ],
            [
             1,
             "#f0f921"
            ]
           ],
           "sequentialminus": [
            [
             0,
             "#0d0887"
            ],
            [
             0.1111111111111111,
             "#46039f"
            ],
            [
             0.2222222222222222,
             "#7201a8"
            ],
            [
             0.3333333333333333,
             "#9c179e"
            ],
            [
             0.4444444444444444,
             "#bd3786"
            ],
            [
             0.5555555555555556,
             "#d8576b"
            ],
            [
             0.6666666666666666,
             "#ed7953"
            ],
            [
             0.7777777777777778,
             "#fb9f3a"
            ],
            [
             0.8888888888888888,
             "#fdca26"
            ],
            [
             1,
             "#f0f921"
            ]
           ]
          },
          "colorway": [
           "#636efa",
           "#EF553B",
           "#00cc96",
           "#ab63fa",
           "#FFA15A",
           "#19d3f3",
           "#FF6692",
           "#B6E880",
           "#FF97FF",
           "#FECB52"
          ],
          "font": {
           "color": "#2a3f5f"
          },
          "geo": {
           "bgcolor": "white",
           "lakecolor": "white",
           "landcolor": "#E5ECF6",
           "showlakes": true,
           "showland": true,
           "subunitcolor": "white"
          },
          "hoverlabel": {
           "align": "left"
          },
          "hovermode": "closest",
          "mapbox": {
           "style": "light"
          },
          "paper_bgcolor": "white",
          "plot_bgcolor": "#E5ECF6",
          "polar": {
           "angularaxis": {
            "gridcolor": "white",
            "linecolor": "white",
            "ticks": ""
           },
           "bgcolor": "#E5ECF6",
           "radialaxis": {
            "gridcolor": "white",
            "linecolor": "white",
            "ticks": ""
           }
          },
          "scene": {
           "xaxis": {
            "backgroundcolor": "#E5ECF6",
            "gridcolor": "white",
            "gridwidth": 2,
            "linecolor": "white",
            "showbackground": true,
            "ticks": "",
            "zerolinecolor": "white"
           },
           "yaxis": {
            "backgroundcolor": "#E5ECF6",
            "gridcolor": "white",
            "gridwidth": 2,
            "linecolor": "white",
            "showbackground": true,
            "ticks": "",
            "zerolinecolor": "white"
           },
           "zaxis": {
            "backgroundcolor": "#E5ECF6",
            "gridcolor": "white",
            "gridwidth": 2,
            "linecolor": "white",
            "showbackground": true,
            "ticks": "",
            "zerolinecolor": "white"
           }
          },
          "shapedefaults": {
           "line": {
            "color": "#2a3f5f"
           }
          },
          "ternary": {
           "aaxis": {
            "gridcolor": "white",
            "linecolor": "white",
            "ticks": ""
           },
           "baxis": {
            "gridcolor": "white",
            "linecolor": "white",
            "ticks": ""
           },
           "bgcolor": "#E5ECF6",
           "caxis": {
            "gridcolor": "white",
            "linecolor": "white",
            "ticks": ""
           }
          },
          "title": {
           "x": 0.05
          },
          "xaxis": {
           "automargin": true,
           "gridcolor": "white",
           "linecolor": "white",
           "ticks": "",
           "title": {
            "standoff": 15
           },
           "zerolinecolor": "white",
           "zerolinewidth": 2
          },
          "yaxis": {
           "automargin": true,
           "gridcolor": "white",
           "linecolor": "white",
           "ticks": "",
           "title": {
            "standoff": 15
           },
           "zerolinecolor": "white",
           "zerolinewidth": 2
          }
         }
        },
        "title": {
         "text": "U.S. Party Shifts Overtime"
        },
        "updatemenus": [
         {
          "buttons": [
           {
            "args": [
             null,
             {
              "frame": {
               "duration": 500,
               "redraw": false
              },
              "fromcurrent": true,
              "mode": "immediate",
              "transition": {
               "duration": 500,
               "easing": "linear"
              }
             }
            ],
            "label": "&#9654;",
            "method": "animate"
           },
           {
            "args": [
             [
              null
             ],
             {
              "frame": {
               "duration": 0,
               "redraw": false
              },
              "fromcurrent": true,
              "mode": "immediate",
              "transition": {
               "duration": 0,
               "easing": "linear"
              }
             }
            ],
            "label": "&#9724;",
            "method": "animate"
           }
          ],
          "direction": "left",
          "pad": {
           "r": 10,
           "t": 70
          },
          "showactive": false,
          "type": "buttons",
          "x": 0.1,
          "xanchor": "right",
          "y": 0,
          "yanchor": "top"
         }
        ],
        "xaxis": {
         "anchor": "y",
         "domain": [
          0,
          1
         ],
         "range": [
          0,
          1
         ],
         "title": {
          "text": "Populism"
         }
        },
        "yaxis": {
         "anchor": "x",
         "domain": [
          0,
          1
         ],
         "range": [
          0,
          1
         ],
         "title": {
          "text": "Illiberalism"
         }
        }
       }
      },
      "text/html": [
       "<div>                            <div id=\"94625a82-3a7f-448f-b9ce-3753791c9644\" class=\"plotly-graph-div\" style=\"height:525px; width:100%;\"></div>            <script type=\"text/javascript\">                require([\"plotly\"], function(Plotly) {                    window.PLOTLYENV=window.PLOTLYENV || {};                                    if (document.getElementById(\"94625a82-3a7f-448f-b9ce-3753791c9644\")) {                    Plotly.newPlot(                        \"94625a82-3a7f-448f-b9ce-3753791c9644\",                        [{\"hovertemplate\": \"<b>%{hovertext}</b><br><br>Party=Democratic Party<br>Year=1970<br>Populism=%{x}<br>Illiberalism=%{y}<br>Votes (%)=%{marker.size}<extra></extra>\", \"hovertext\": [\"Democratic Party\"], \"ids\": [\"Democratic Party\"], \"legendgroup\": \"Democratic Party\", \"marker\": {\"color\": \"#636efa\", \"size\": [50.9], \"sizemode\": \"area\", \"sizeref\": 0.14175000000000001, \"symbol\": \"circle\"}, \"mode\": \"markers\", \"name\": \"Democratic Party\", \"orientation\": \"v\", \"showlegend\": true, \"type\": \"scatter\", \"x\": [0.354], \"xaxis\": \"x\", \"y\": [0.124], \"yaxis\": \"y\"}, {\"hovertemplate\": \"<b>%{hovertext}</b><br><br>Party=Republican Party<br>Year=1970<br>Populism=%{x}<br>Illiberalism=%{y}<br>Votes (%)=%{marker.size}<extra></extra>\", \"hovertext\": [\"Republican Party\"], \"ids\": [\"Republican Party\"], \"legendgroup\": \"Republican Party\", \"marker\": {\"color\": \"#EF553B\", \"size\": [45.3], \"sizemode\": \"area\", \"sizeref\": 0.14175000000000001, \"symbol\": \"circle\"}, \"mode\": \"markers\", \"name\": \"Republican Party\", \"orientation\": \"v\", \"showlegend\": true, \"type\": \"scatter\", \"x\": [0.337], \"xaxis\": \"x\", \"y\": [0.183], \"yaxis\": \"y\"}],                        {\"annotations\": [{\"font\": {\"color\": \"black\", \"size\": 15}, \"showarrow\": false, \"text\": \"Left Leaning Democracies\", \"x\": 0.25, \"y\": 0.21}, {\"font\": {\"color\": \"black\", \"size\": 15}, \"showarrow\": false, \"text\": \"Right Leaning Democracies\", \"x\": 0.75, \"y\": 0.21}, {\"font\": {\"color\": \"black\", \"size\": 15}, \"showarrow\": false, \"text\": \"Left Leaning Autocracies\", \"x\": 0.25, \"y\": 0.96}, {\"font\": {\"color\": \"black\", \"size\": 15}, \"showarrow\": false, \"text\": \"Right Leaning Autocracies\", \"x\": 0.75, \"y\": 0.96}], \"legend\": {\"itemsizing\": \"constant\", \"title\": {\"text\": \"Party\"}, \"tracegroupgap\": 0}, \"margin\": {\"t\": 60}, \"shapes\": [{\"line\": {\"color\": \"black\", \"width\": 1}, \"type\": \"line\", \"x0\": 0.5, \"x1\": 0.5, \"y0\": 0, \"y1\": 1}, {\"line\": {\"color\": \"black\", \"width\": 1}, \"type\": \"line\", \"x0\": 0, \"x1\": 1, \"y0\": 0.25, \"y1\": 0.25}], \"sliders\": [{\"active\": 0, \"currentvalue\": {\"prefix\": \"Year=\"}, \"len\": 0.9, \"pad\": {\"b\": 10, \"t\": 60}, \"steps\": [{\"args\": [[\"1970\"], {\"frame\": {\"duration\": 0, \"redraw\": false}, \"fromcurrent\": true, \"mode\": \"immediate\", \"transition\": {\"duration\": 0, \"easing\": \"linear\"}}], \"label\": \"1970\", \"method\": \"animate\"}, {\"args\": [[\"1972\"], {\"frame\": {\"duration\": 0, \"redraw\": false}, \"fromcurrent\": true, \"mode\": \"immediate\", \"transition\": {\"duration\": 0, \"easing\": \"linear\"}}], \"label\": \"1972\", \"method\": \"animate\"}, {\"args\": [[\"1974\"], {\"frame\": {\"duration\": 0, \"redraw\": false}, \"fromcurrent\": true, \"mode\": \"immediate\", \"transition\": {\"duration\": 0, \"easing\": \"linear\"}}], \"label\": \"1974\", \"method\": \"animate\"}, {\"args\": [[\"1976\"], {\"frame\": {\"duration\": 0, \"redraw\": false}, \"fromcurrent\": true, \"mode\": \"immediate\", \"transition\": {\"duration\": 0, \"easing\": \"linear\"}}], \"label\": \"1976\", \"method\": \"animate\"}, {\"args\": [[\"1978\"], {\"frame\": {\"duration\": 0, \"redraw\": false}, \"fromcurrent\": true, \"mode\": \"immediate\", \"transition\": {\"duration\": 0, \"easing\": \"linear\"}}], \"label\": \"1978\", \"method\": \"animate\"}, {\"args\": [[\"1980\"], {\"frame\": {\"duration\": 0, \"redraw\": false}, \"fromcurrent\": true, \"mode\": \"immediate\", \"transition\": {\"duration\": 0, \"easing\": \"linear\"}}], \"label\": \"1980\", \"method\": \"animate\"}, {\"args\": [[\"1982\"], {\"frame\": {\"duration\": 0, \"redraw\": false}, \"fromcurrent\": true, \"mode\": \"immediate\", \"transition\": {\"duration\": 0, \"easing\": \"linear\"}}], \"label\": \"1982\", \"method\": \"animate\"}, {\"args\": [[\"1984\"], {\"frame\": {\"duration\": 0, \"redraw\": false}, \"fromcurrent\": true, \"mode\": \"immediate\", \"transition\": {\"duration\": 0, \"easing\": \"linear\"}}], \"label\": \"1984\", \"method\": \"animate\"}, {\"args\": [[\"1986\"], {\"frame\": {\"duration\": 0, \"redraw\": false}, \"fromcurrent\": true, \"mode\": \"immediate\", \"transition\": {\"duration\": 0, \"easing\": \"linear\"}}], \"label\": \"1986\", \"method\": \"animate\"}, {\"args\": [[\"1988\"], {\"frame\": {\"duration\": 0, \"redraw\": false}, \"fromcurrent\": true, \"mode\": \"immediate\", \"transition\": {\"duration\": 0, \"easing\": \"linear\"}}], \"label\": \"1988\", \"method\": \"animate\"}, {\"args\": [[\"1990\"], {\"frame\": {\"duration\": 0, \"redraw\": false}, \"fromcurrent\": true, \"mode\": \"immediate\", \"transition\": {\"duration\": 0, \"easing\": \"linear\"}}], \"label\": \"1990\", \"method\": \"animate\"}, {\"args\": [[\"1992\"], {\"frame\": {\"duration\": 0, \"redraw\": false}, \"fromcurrent\": true, \"mode\": \"immediate\", \"transition\": {\"duration\": 0, \"easing\": \"linear\"}}], \"label\": \"1992\", \"method\": \"animate\"}, {\"args\": [[\"1994\"], {\"frame\": {\"duration\": 0, \"redraw\": false}, \"fromcurrent\": true, \"mode\": \"immediate\", \"transition\": {\"duration\": 0, \"easing\": \"linear\"}}], \"label\": \"1994\", \"method\": \"animate\"}, {\"args\": [[\"1996\"], {\"frame\": {\"duration\": 0, \"redraw\": false}, \"fromcurrent\": true, \"mode\": \"immediate\", \"transition\": {\"duration\": 0, \"easing\": \"linear\"}}], \"label\": \"1996\", \"method\": \"animate\"}, {\"args\": [[\"1998\"], {\"frame\": {\"duration\": 0, \"redraw\": false}, \"fromcurrent\": true, \"mode\": \"immediate\", \"transition\": {\"duration\": 0, \"easing\": \"linear\"}}], \"label\": \"1998\", \"method\": \"animate\"}, {\"args\": [[\"2000\"], {\"frame\": {\"duration\": 0, \"redraw\": false}, \"fromcurrent\": true, \"mode\": \"immediate\", \"transition\": {\"duration\": 0, \"easing\": \"linear\"}}], \"label\": \"2000\", \"method\": \"animate\"}, {\"args\": [[\"2002\"], {\"frame\": {\"duration\": 0, \"redraw\": false}, \"fromcurrent\": true, \"mode\": \"immediate\", \"transition\": {\"duration\": 0, \"easing\": \"linear\"}}], \"label\": \"2002\", \"method\": \"animate\"}, {\"args\": [[\"2004\"], {\"frame\": {\"duration\": 0, \"redraw\": false}, \"fromcurrent\": true, \"mode\": \"immediate\", \"transition\": {\"duration\": 0, \"easing\": \"linear\"}}], \"label\": \"2004\", \"method\": \"animate\"}, {\"args\": [[\"2006\"], {\"frame\": {\"duration\": 0, \"redraw\": false}, \"fromcurrent\": true, \"mode\": \"immediate\", \"transition\": {\"duration\": 0, \"easing\": \"linear\"}}], \"label\": \"2006\", \"method\": \"animate\"}, {\"args\": [[\"2008\"], {\"frame\": {\"duration\": 0, \"redraw\": false}, \"fromcurrent\": true, \"mode\": \"immediate\", \"transition\": {\"duration\": 0, \"easing\": \"linear\"}}], \"label\": \"2008\", \"method\": \"animate\"}, {\"args\": [[\"2010\"], {\"frame\": {\"duration\": 0, \"redraw\": false}, \"fromcurrent\": true, \"mode\": \"immediate\", \"transition\": {\"duration\": 0, \"easing\": \"linear\"}}], \"label\": \"2010\", \"method\": \"animate\"}, {\"args\": [[\"2012\"], {\"frame\": {\"duration\": 0, \"redraw\": false}, \"fromcurrent\": true, \"mode\": \"immediate\", \"transition\": {\"duration\": 0, \"easing\": \"linear\"}}], \"label\": \"2012\", \"method\": \"animate\"}, {\"args\": [[\"2014\"], {\"frame\": {\"duration\": 0, \"redraw\": false}, \"fromcurrent\": true, \"mode\": \"immediate\", \"transition\": {\"duration\": 0, \"easing\": \"linear\"}}], \"label\": \"2014\", \"method\": \"animate\"}, {\"args\": [[\"2016\"], {\"frame\": {\"duration\": 0, \"redraw\": false}, \"fromcurrent\": true, \"mode\": \"immediate\", \"transition\": {\"duration\": 0, \"easing\": \"linear\"}}], \"label\": \"2016\", \"method\": \"animate\"}, {\"args\": [[\"2018\"], {\"frame\": {\"duration\": 0, \"redraw\": false}, \"fromcurrent\": true, \"mode\": \"immediate\", \"transition\": {\"duration\": 0, \"easing\": \"linear\"}}], \"label\": \"2018\", \"method\": \"animate\"}], \"x\": 0.1, \"xanchor\": \"left\", \"y\": 0, \"yanchor\": \"top\"}], \"template\": {\"data\": {\"bar\": [{\"error_x\": {\"color\": \"#2a3f5f\"}, \"error_y\": {\"color\": \"#2a3f5f\"}, \"marker\": {\"line\": {\"color\": \"#E5ECF6\", \"width\": 0.5}}, \"type\": \"bar\"}], \"barpolar\": [{\"marker\": {\"line\": {\"color\": \"#E5ECF6\", \"width\": 0.5}}, \"type\": \"barpolar\"}], \"carpet\": [{\"aaxis\": {\"endlinecolor\": \"#2a3f5f\", \"gridcolor\": \"white\", \"linecolor\": \"white\", \"minorgridcolor\": \"white\", \"startlinecolor\": \"#2a3f5f\"}, \"baxis\": {\"endlinecolor\": \"#2a3f5f\", \"gridcolor\": \"white\", \"linecolor\": \"white\", \"minorgridcolor\": \"white\", \"startlinecolor\": \"#2a3f5f\"}, \"type\": \"carpet\"}], \"choropleth\": [{\"colorbar\": {\"outlinewidth\": 0, \"ticks\": \"\"}, \"type\": \"choropleth\"}], \"contour\": [{\"colorbar\": {\"outlinewidth\": 0, \"ticks\": \"\"}, \"colorscale\": [[0.0, \"#0d0887\"], [0.1111111111111111, \"#46039f\"], [0.2222222222222222, \"#7201a8\"], [0.3333333333333333, \"#9c179e\"], [0.4444444444444444, \"#bd3786\"], [0.5555555555555556, \"#d8576b\"], [0.6666666666666666, \"#ed7953\"], [0.7777777777777778, \"#fb9f3a\"], [0.8888888888888888, \"#fdca26\"], [1.0, \"#f0f921\"]], \"type\": \"contour\"}], \"contourcarpet\": [{\"colorbar\": {\"outlinewidth\": 0, \"ticks\": \"\"}, \"type\": \"contourcarpet\"}], \"heatmap\": [{\"colorbar\": {\"outlinewidth\": 0, \"ticks\": \"\"}, \"colorscale\": [[0.0, \"#0d0887\"], [0.1111111111111111, \"#46039f\"], [0.2222222222222222, \"#7201a8\"], [0.3333333333333333, \"#9c179e\"], [0.4444444444444444, \"#bd3786\"], [0.5555555555555556, \"#d8576b\"], [0.6666666666666666, \"#ed7953\"], [0.7777777777777778, \"#fb9f3a\"], [0.8888888888888888, \"#fdca26\"], [1.0, \"#f0f921\"]], \"type\": \"heatmap\"}], \"heatmapgl\": [{\"colorbar\": {\"outlinewidth\": 0, \"ticks\": \"\"}, \"colorscale\": [[0.0, \"#0d0887\"], [0.1111111111111111, \"#46039f\"], [0.2222222222222222, \"#7201a8\"], [0.3333333333333333, \"#9c179e\"], [0.4444444444444444, \"#bd3786\"], [0.5555555555555556, \"#d8576b\"], [0.6666666666666666, \"#ed7953\"], [0.7777777777777778, \"#fb9f3a\"], [0.8888888888888888, \"#fdca26\"], [1.0, \"#f0f921\"]], \"type\": \"heatmapgl\"}], \"histogram\": [{\"marker\": {\"colorbar\": {\"outlinewidth\": 0, \"ticks\": \"\"}}, \"type\": \"histogram\"}], \"histogram2d\": [{\"colorbar\": {\"outlinewidth\": 0, \"ticks\": \"\"}, \"colorscale\": [[0.0, \"#0d0887\"], [0.1111111111111111, \"#46039f\"], [0.2222222222222222, \"#7201a8\"], [0.3333333333333333, \"#9c179e\"], [0.4444444444444444, \"#bd3786\"], [0.5555555555555556, \"#d8576b\"], [0.6666666666666666, \"#ed7953\"], [0.7777777777777778, \"#fb9f3a\"], [0.8888888888888888, \"#fdca26\"], [1.0, \"#f0f921\"]], \"type\": \"histogram2d\"}], \"histogram2dcontour\": [{\"colorbar\": {\"outlinewidth\": 0, \"ticks\": \"\"}, \"colorscale\": [[0.0, \"#0d0887\"], [0.1111111111111111, \"#46039f\"], [0.2222222222222222, \"#7201a8\"], [0.3333333333333333, \"#9c179e\"], [0.4444444444444444, \"#bd3786\"], [0.5555555555555556, \"#d8576b\"], [0.6666666666666666, \"#ed7953\"], [0.7777777777777778, \"#fb9f3a\"], [0.8888888888888888, \"#fdca26\"], [1.0, \"#f0f921\"]], \"type\": \"histogram2dcontour\"}], \"mesh3d\": [{\"colorbar\": {\"outlinewidth\": 0, \"ticks\": \"\"}, \"type\": \"mesh3d\"}], \"parcoords\": [{\"line\": {\"colorbar\": {\"outlinewidth\": 0, \"ticks\": \"\"}}, \"type\": \"parcoords\"}], \"pie\": [{\"automargin\": true, \"type\": \"pie\"}], \"scatter\": [{\"marker\": {\"colorbar\": {\"outlinewidth\": 0, \"ticks\": \"\"}}, \"type\": \"scatter\"}], \"scatter3d\": [{\"line\": {\"colorbar\": {\"outlinewidth\": 0, \"ticks\": \"\"}}, \"marker\": {\"colorbar\": {\"outlinewidth\": 0, \"ticks\": \"\"}}, \"type\": \"scatter3d\"}], \"scattercarpet\": [{\"marker\": {\"colorbar\": {\"outlinewidth\": 0, \"ticks\": \"\"}}, \"type\": \"scattercarpet\"}], \"scattergeo\": [{\"marker\": {\"colorbar\": {\"outlinewidth\": 0, \"ticks\": \"\"}}, \"type\": \"scattergeo\"}], \"scattergl\": [{\"marker\": {\"colorbar\": {\"outlinewidth\": 0, \"ticks\": \"\"}}, \"type\": \"scattergl\"}], \"scattermapbox\": [{\"marker\": {\"colorbar\": {\"outlinewidth\": 0, \"ticks\": \"\"}}, \"type\": \"scattermapbox\"}], \"scatterpolar\": [{\"marker\": {\"colorbar\": {\"outlinewidth\": 0, \"ticks\": \"\"}}, \"type\": \"scatterpolar\"}], \"scatterpolargl\": [{\"marker\": {\"colorbar\": {\"outlinewidth\": 0, \"ticks\": \"\"}}, \"type\": \"scatterpolargl\"}], \"scatterternary\": [{\"marker\": {\"colorbar\": {\"outlinewidth\": 0, \"ticks\": \"\"}}, \"type\": \"scatterternary\"}], \"surface\": [{\"colorbar\": {\"outlinewidth\": 0, \"ticks\": \"\"}, \"colorscale\": [[0.0, \"#0d0887\"], [0.1111111111111111, \"#46039f\"], [0.2222222222222222, \"#7201a8\"], [0.3333333333333333, \"#9c179e\"], [0.4444444444444444, \"#bd3786\"], [0.5555555555555556, \"#d8576b\"], [0.6666666666666666, \"#ed7953\"], [0.7777777777777778, \"#fb9f3a\"], [0.8888888888888888, \"#fdca26\"], [1.0, \"#f0f921\"]], \"type\": \"surface\"}], \"table\": [{\"cells\": {\"fill\": {\"color\": \"#EBF0F8\"}, \"line\": {\"color\": \"white\"}}, \"header\": {\"fill\": {\"color\": \"#C8D4E3\"}, \"line\": {\"color\": \"white\"}}, \"type\": \"table\"}]}, \"layout\": {\"annotationdefaults\": {\"arrowcolor\": \"#2a3f5f\", \"arrowhead\": 0, \"arrowwidth\": 1}, \"coloraxis\": {\"colorbar\": {\"outlinewidth\": 0, \"ticks\": \"\"}}, \"colorscale\": {\"diverging\": [[0, \"#8e0152\"], [0.1, \"#c51b7d\"], [0.2, \"#de77ae\"], [0.3, \"#f1b6da\"], [0.4, \"#fde0ef\"], [0.5, \"#f7f7f7\"], [0.6, \"#e6f5d0\"], [0.7, \"#b8e186\"], [0.8, \"#7fbc41\"], [0.9, \"#4d9221\"], [1, \"#276419\"]], \"sequential\": [[0.0, \"#0d0887\"], [0.1111111111111111, \"#46039f\"], [0.2222222222222222, \"#7201a8\"], [0.3333333333333333, \"#9c179e\"], [0.4444444444444444, \"#bd3786\"], [0.5555555555555556, \"#d8576b\"], [0.6666666666666666, \"#ed7953\"], [0.7777777777777778, \"#fb9f3a\"], [0.8888888888888888, \"#fdca26\"], [1.0, \"#f0f921\"]], \"sequentialminus\": [[0.0, \"#0d0887\"], [0.1111111111111111, \"#46039f\"], [0.2222222222222222, \"#7201a8\"], [0.3333333333333333, \"#9c179e\"], [0.4444444444444444, \"#bd3786\"], [0.5555555555555556, \"#d8576b\"], [0.6666666666666666, \"#ed7953\"], [0.7777777777777778, \"#fb9f3a\"], [0.8888888888888888, \"#fdca26\"], [1.0, \"#f0f921\"]]}, \"colorway\": [\"#636efa\", \"#EF553B\", \"#00cc96\", \"#ab63fa\", \"#FFA15A\", \"#19d3f3\", \"#FF6692\", \"#B6E880\", \"#FF97FF\", \"#FECB52\"], \"font\": {\"color\": \"#2a3f5f\"}, \"geo\": {\"bgcolor\": \"white\", \"lakecolor\": \"white\", \"landcolor\": \"#E5ECF6\", \"showlakes\": true, \"showland\": true, \"subunitcolor\": \"white\"}, \"hoverlabel\": {\"align\": \"left\"}, \"hovermode\": \"closest\", \"mapbox\": {\"style\": \"light\"}, \"paper_bgcolor\": \"white\", \"plot_bgcolor\": \"#E5ECF6\", \"polar\": {\"angularaxis\": {\"gridcolor\": \"white\", \"linecolor\": \"white\", \"ticks\": \"\"}, \"bgcolor\": \"#E5ECF6\", \"radialaxis\": {\"gridcolor\": \"white\", \"linecolor\": \"white\", \"ticks\": \"\"}}, \"scene\": {\"xaxis\": {\"backgroundcolor\": \"#E5ECF6\", \"gridcolor\": \"white\", \"gridwidth\": 2, \"linecolor\": \"white\", \"showbackground\": true, \"ticks\": \"\", \"zerolinecolor\": \"white\"}, \"yaxis\": {\"backgroundcolor\": \"#E5ECF6\", \"gridcolor\": \"white\", \"gridwidth\": 2, \"linecolor\": \"white\", \"showbackground\": true, \"ticks\": \"\", \"zerolinecolor\": \"white\"}, \"zaxis\": {\"backgroundcolor\": \"#E5ECF6\", \"gridcolor\": \"white\", \"gridwidth\": 2, \"linecolor\": \"white\", \"showbackground\": true, \"ticks\": \"\", \"zerolinecolor\": \"white\"}}, \"shapedefaults\": {\"line\": {\"color\": \"#2a3f5f\"}}, \"ternary\": {\"aaxis\": {\"gridcolor\": \"white\", \"linecolor\": \"white\", \"ticks\": \"\"}, \"baxis\": {\"gridcolor\": \"white\", \"linecolor\": \"white\", \"ticks\": \"\"}, \"bgcolor\": \"#E5ECF6\", \"caxis\": {\"gridcolor\": \"white\", \"linecolor\": \"white\", \"ticks\": \"\"}}, \"title\": {\"x\": 0.05}, \"xaxis\": {\"automargin\": true, \"gridcolor\": \"white\", \"linecolor\": \"white\", \"ticks\": \"\", \"title\": {\"standoff\": 15}, \"zerolinecolor\": \"white\", \"zerolinewidth\": 2}, \"yaxis\": {\"automargin\": true, \"gridcolor\": \"white\", \"linecolor\": \"white\", \"ticks\": \"\", \"title\": {\"standoff\": 15}, \"zerolinecolor\": \"white\", \"zerolinewidth\": 2}}}, \"title\": {\"text\": \"U.S. Party Shifts Overtime\"}, \"updatemenus\": [{\"buttons\": [{\"args\": [null, {\"frame\": {\"duration\": 500, \"redraw\": false}, \"fromcurrent\": true, \"mode\": \"immediate\", \"transition\": {\"duration\": 500, \"easing\": \"linear\"}}], \"label\": \"&#9654;\", \"method\": \"animate\"}, {\"args\": [[null], {\"frame\": {\"duration\": 0, \"redraw\": false}, \"fromcurrent\": true, \"mode\": \"immediate\", \"transition\": {\"duration\": 0, \"easing\": \"linear\"}}], \"label\": \"&#9724;\", \"method\": \"animate\"}], \"direction\": \"left\", \"pad\": {\"r\": 10, \"t\": 70}, \"showactive\": false, \"type\": \"buttons\", \"x\": 0.1, \"xanchor\": \"right\", \"y\": 0, \"yanchor\": \"top\"}], \"xaxis\": {\"anchor\": \"y\", \"domain\": [0.0, 1.0], \"range\": [0, 1], \"title\": {\"text\": \"Populism\"}}, \"yaxis\": {\"anchor\": \"x\", \"domain\": [0.0, 1.0], \"range\": [0, 1], \"title\": {\"text\": \"Illiberalism\"}}},                        {\"responsive\": true}                    ).then(function(){\n",
       "                            Plotly.addFrames('94625a82-3a7f-448f-b9ce-3753791c9644', [{\"data\": [{\"hovertemplate\": \"<b>%{hovertext}</b><br><br>Party=Democratic Party<br>Year=1970<br>Populism=%{x}<br>Illiberalism=%{y}<br>Votes (%)=%{marker.size}<extra></extra>\", \"hovertext\": [\"Democratic Party\"], \"ids\": [\"Democratic Party\"], \"legendgroup\": \"Democratic Party\", \"marker\": {\"color\": \"#636efa\", \"size\": [50.9], \"sizemode\": \"area\", \"sizeref\": 0.14175000000000001, \"symbol\": \"circle\"}, \"mode\": \"markers\", \"name\": \"Democratic Party\", \"orientation\": \"v\", \"showlegend\": true, \"x\": [0.354], \"xaxis\": \"x\", \"y\": [0.124], \"yaxis\": \"y\", \"type\": \"scatter\"}, {\"hovertemplate\": \"<b>%{hovertext}</b><br><br>Party=Republican Party<br>Year=1970<br>Populism=%{x}<br>Illiberalism=%{y}<br>Votes (%)=%{marker.size}<extra></extra>\", \"hovertext\": [\"Republican Party\"], \"ids\": [\"Republican Party\"], \"legendgroup\": \"Republican Party\", \"marker\": {\"color\": \"#EF553B\", \"size\": [45.3], \"sizemode\": \"area\", \"sizeref\": 0.14175000000000001, \"symbol\": \"circle\"}, \"mode\": \"markers\", \"name\": \"Republican Party\", \"orientation\": \"v\", \"showlegend\": true, \"x\": [0.337], \"xaxis\": \"x\", \"y\": [0.183], \"yaxis\": \"y\", \"type\": \"scatter\"}], \"name\": \"1970\"}, {\"data\": [{\"hovertemplate\": \"<b>%{hovertext}</b><br><br>Party=Democratic Party<br>Year=1972<br>Populism=%{x}<br>Illiberalism=%{y}<br>Votes (%)=%{marker.size}<extra></extra>\", \"hovertext\": [\"Democratic Party\"], \"ids\": [\"Democratic Party\"], \"legendgroup\": \"Democratic Party\", \"marker\": {\"color\": \"#636efa\", \"size\": [52.6], \"sizemode\": \"area\", \"sizeref\": 0.14175000000000001, \"symbol\": \"circle\"}, \"mode\": \"markers\", \"name\": \"Democratic Party\", \"orientation\": \"v\", \"showlegend\": true, \"x\": [0.353], \"xaxis\": \"x\", \"y\": [0.122], \"yaxis\": \"y\", \"type\": \"scatter\"}, {\"hovertemplate\": \"<b>%{hovertext}</b><br><br>Party=Republican Party<br>Year=1972<br>Populism=%{x}<br>Illiberalism=%{y}<br>Votes (%)=%{marker.size}<extra></extra>\", \"hovertext\": [\"Republican Party\"], \"ids\": [\"Republican Party\"], \"legendgroup\": \"Republican Party\", \"marker\": {\"color\": \"#EF553B\", \"size\": [46.2], \"sizemode\": \"area\", \"sizeref\": 0.14175000000000001, \"symbol\": \"circle\"}, \"mode\": \"markers\", \"name\": \"Republican Party\", \"orientation\": \"v\", \"showlegend\": true, \"x\": [0.342], \"xaxis\": \"x\", \"y\": [0.184], \"yaxis\": \"y\", \"type\": \"scatter\"}], \"name\": \"1972\"}, {\"data\": [{\"hovertemplate\": \"<b>%{hovertext}</b><br><br>Party=Democratic Party<br>Year=1974<br>Populism=%{x}<br>Illiberalism=%{y}<br>Votes (%)=%{marker.size}<extra></extra>\", \"hovertext\": [\"Democratic Party\"], \"ids\": [\"Democratic Party\"], \"legendgroup\": \"Democratic Party\", \"marker\": {\"color\": \"#636efa\", \"size\": [55.6], \"sizemode\": \"area\", \"sizeref\": 0.14175000000000001, \"symbol\": \"circle\"}, \"mode\": \"markers\", \"name\": \"Democratic Party\", \"orientation\": \"v\", \"showlegend\": true, \"x\": [0.355], \"xaxis\": \"x\", \"y\": [0.12300000000000001], \"yaxis\": \"y\", \"type\": \"scatter\"}, {\"hovertemplate\": \"<b>%{hovertext}</b><br><br>Party=Republican Party<br>Year=1974<br>Populism=%{x}<br>Illiberalism=%{y}<br>Votes (%)=%{marker.size}<extra></extra>\", \"hovertext\": [\"Republican Party\"], \"ids\": [\"Republican Party\"], \"legendgroup\": \"Republican Party\", \"marker\": {\"color\": \"#EF553B\", \"size\": [40.5], \"sizemode\": \"area\", \"sizeref\": 0.14175000000000001, \"symbol\": \"circle\"}, \"mode\": \"markers\", \"name\": \"Republican Party\", \"orientation\": \"v\", \"showlegend\": true, \"x\": [0.34], \"xaxis\": \"x\", \"y\": [0.171], \"yaxis\": \"y\", \"type\": \"scatter\"}], \"name\": \"1974\"}, {\"data\": [{\"hovertemplate\": \"<b>%{hovertext}</b><br><br>Party=Democratic Party<br>Year=1976<br>Populism=%{x}<br>Illiberalism=%{y}<br>Votes (%)=%{marker.size}<extra></extra>\", \"hovertext\": [\"Democratic Party\"], \"ids\": [\"Democratic Party\"], \"legendgroup\": \"Democratic Party\", \"marker\": {\"color\": \"#636efa\", \"size\": [56.7], \"sizemode\": \"area\", \"sizeref\": 0.14175000000000001, \"symbol\": \"circle\"}, \"mode\": \"markers\", \"name\": \"Democratic Party\", \"orientation\": \"v\", \"showlegend\": true, \"x\": [0.35], \"xaxis\": \"x\", \"y\": [0.121], \"yaxis\": \"y\", \"type\": \"scatter\"}, {\"hovertemplate\": \"<b>%{hovertext}</b><br><br>Party=Republican Party<br>Year=1976<br>Populism=%{x}<br>Illiberalism=%{y}<br>Votes (%)=%{marker.size}<extra></extra>\", \"hovertext\": [\"Republican Party\"], \"ids\": [\"Republican Party\"], \"legendgroup\": \"Republican Party\", \"marker\": {\"color\": \"#EF553B\", \"size\": [41.7], \"sizemode\": \"area\", \"sizeref\": 0.14175000000000001, \"symbol\": \"circle\"}, \"mode\": \"markers\", \"name\": \"Republican Party\", \"orientation\": \"v\", \"showlegend\": true, \"x\": [0.34], \"xaxis\": \"x\", \"y\": [0.156], \"yaxis\": \"y\", \"type\": \"scatter\"}], \"name\": \"1976\"}, {\"data\": [{\"hovertemplate\": \"<b>%{hovertext}</b><br><br>Party=Democratic Party<br>Year=1978<br>Populism=%{x}<br>Illiberalism=%{y}<br>Votes (%)=%{marker.size}<extra></extra>\", \"hovertext\": [\"Democratic Party\"], \"ids\": [\"Democratic Party\"], \"legendgroup\": \"Democratic Party\", \"marker\": {\"color\": \"#636efa\", \"size\": [53.4], \"sizemode\": \"area\", \"sizeref\": 0.14175000000000001, \"symbol\": \"circle\"}, \"mode\": \"markers\", \"name\": \"Democratic Party\", \"orientation\": \"v\", \"showlegend\": true, \"x\": [0.35600000000000004], \"xaxis\": \"x\", \"y\": [0.121], \"yaxis\": \"y\", \"type\": \"scatter\"}, {\"hovertemplate\": \"<b>%{hovertext}</b><br><br>Party=Republican Party<br>Year=1978<br>Populism=%{x}<br>Illiberalism=%{y}<br>Votes (%)=%{marker.size}<extra></extra>\", \"hovertext\": [\"Republican Party\"], \"ids\": [\"Republican Party\"], \"legendgroup\": \"Republican Party\", \"marker\": {\"color\": \"#EF553B\", \"size\": [44.7], \"sizemode\": \"area\", \"sizeref\": 0.14175000000000001, \"symbol\": \"circle\"}, \"mode\": \"markers\", \"name\": \"Republican Party\", \"orientation\": \"v\", \"showlegend\": true, \"x\": [0.33899999999999997], \"xaxis\": \"x\", \"y\": [0.156], \"yaxis\": \"y\", \"type\": \"scatter\"}], \"name\": \"1978\"}, {\"data\": [{\"hovertemplate\": \"<b>%{hovertext}</b><br><br>Party=Democratic Party<br>Year=1980<br>Populism=%{x}<br>Illiberalism=%{y}<br>Votes (%)=%{marker.size}<extra></extra>\", \"hovertext\": [\"Democratic Party\"], \"ids\": [\"Democratic Party\"], \"legendgroup\": \"Democratic Party\", \"marker\": {\"color\": \"#636efa\", \"size\": [50.6], \"sizemode\": \"area\", \"sizeref\": 0.14175000000000001, \"symbol\": \"circle\"}, \"mode\": \"markers\", \"name\": \"Democratic Party\", \"orientation\": \"v\", \"showlegend\": true, \"x\": [0.35600000000000004], \"xaxis\": \"x\", \"y\": [0.115], \"yaxis\": \"y\", \"type\": \"scatter\"}, {\"hovertemplate\": \"<b>%{hovertext}</b><br><br>Party=Republican Party<br>Year=1980<br>Populism=%{x}<br>Illiberalism=%{y}<br>Votes (%)=%{marker.size}<extra></extra>\", \"hovertext\": [\"Republican Party\"], \"ids\": [\"Republican Party\"], \"legendgroup\": \"Republican Party\", \"marker\": {\"color\": \"#EF553B\", \"size\": [47.9], \"sizemode\": \"area\", \"sizeref\": 0.14175000000000001, \"symbol\": \"circle\"}, \"mode\": \"markers\", \"name\": \"Republican Party\", \"orientation\": \"v\", \"showlegend\": true, \"x\": [0.342], \"xaxis\": \"x\", \"y\": [0.156], \"yaxis\": \"y\", \"type\": \"scatter\"}], \"name\": \"1980\"}, {\"data\": [{\"hovertemplate\": \"<b>%{hovertext}</b><br><br>Party=Democratic Party<br>Year=1982<br>Populism=%{x}<br>Illiberalism=%{y}<br>Votes (%)=%{marker.size}<extra></extra>\", \"hovertext\": [\"Democratic Party\"], \"ids\": [\"Democratic Party\"], \"legendgroup\": \"Democratic Party\", \"marker\": {\"color\": \"#636efa\", \"size\": [55.0], \"sizemode\": \"area\", \"sizeref\": 0.14175000000000001, \"symbol\": \"circle\"}, \"mode\": \"markers\", \"name\": \"Democratic Party\", \"orientation\": \"v\", \"showlegend\": true, \"x\": [0.24], \"xaxis\": \"x\", \"y\": [0.115], \"yaxis\": \"y\", \"type\": \"scatter\"}, {\"hovertemplate\": \"<b>%{hovertext}</b><br><br>Party=Republican Party<br>Year=1982<br>Populism=%{x}<br>Illiberalism=%{y}<br>Votes (%)=%{marker.size}<extra></extra>\", \"hovertext\": [\"Republican Party\"], \"ids\": [\"Republican Party\"], \"legendgroup\": \"Republican Party\", \"marker\": {\"color\": \"#EF553B\", \"size\": [43.2], \"sizemode\": \"area\", \"sizeref\": 0.14175000000000001, \"symbol\": \"circle\"}, \"mode\": \"markers\", \"name\": \"Republican Party\", \"orientation\": \"v\", \"showlegend\": true, \"x\": [0.342], \"xaxis\": \"x\", \"y\": [0.156], \"yaxis\": \"y\", \"type\": \"scatter\"}], \"name\": \"1982\"}, {\"data\": [{\"hovertemplate\": \"<b>%{hovertext}</b><br><br>Party=Democratic Party<br>Year=1984<br>Populism=%{x}<br>Illiberalism=%{y}<br>Votes (%)=%{marker.size}<extra></extra>\", \"hovertext\": [\"Democratic Party\"], \"ids\": [\"Democratic Party\"], \"legendgroup\": \"Democratic Party\", \"marker\": {\"color\": \"#636efa\", \"size\": [52.4], \"sizemode\": \"area\", \"sizeref\": 0.14175000000000001, \"symbol\": \"circle\"}, \"mode\": \"markers\", \"name\": \"Democratic Party\", \"orientation\": \"v\", \"showlegend\": true, \"x\": [0.24100000000000002], \"xaxis\": \"x\", \"y\": [0.115], \"yaxis\": \"y\", \"type\": \"scatter\"}, {\"hovertemplate\": \"<b>%{hovertext}</b><br><br>Party=Republican Party<br>Year=1984<br>Populism=%{x}<br>Illiberalism=%{y}<br>Votes (%)=%{marker.size}<extra></extra>\", \"hovertext\": [\"Republican Party\"], \"ids\": [\"Republican Party\"], \"legendgroup\": \"Republican Party\", \"marker\": {\"color\": \"#EF553B\", \"size\": [46.8], \"sizemode\": \"area\", \"sizeref\": 0.14175000000000001, \"symbol\": \"circle\"}, \"mode\": \"markers\", \"name\": \"Republican Party\", \"orientation\": \"v\", \"showlegend\": true, \"x\": [0.245], \"xaxis\": \"x\", \"y\": [0.157], \"yaxis\": \"y\", \"type\": \"scatter\"}], \"name\": \"1984\"}, {\"data\": [{\"hovertemplate\": \"<b>%{hovertext}</b><br><br>Party=Democratic Party<br>Year=1986<br>Populism=%{x}<br>Illiberalism=%{y}<br>Votes (%)=%{marker.size}<extra></extra>\", \"hovertext\": [\"Democratic Party\"], \"ids\": [\"Democratic Party\"], \"legendgroup\": \"Democratic Party\", \"marker\": {\"color\": \"#636efa\", \"size\": [54.1], \"sizemode\": \"area\", \"sizeref\": 0.14175000000000001, \"symbol\": \"circle\"}, \"mode\": \"markers\", \"name\": \"Democratic Party\", \"orientation\": \"v\", \"showlegend\": true, \"x\": [0.35100000000000003], \"xaxis\": \"x\", \"y\": [0.11800000000000001], \"yaxis\": \"y\", \"type\": \"scatter\"}, {\"hovertemplate\": \"<b>%{hovertext}</b><br><br>Party=Republican Party<br>Year=1986<br>Populism=%{x}<br>Illiberalism=%{y}<br>Votes (%)=%{marker.size}<extra></extra>\", \"hovertext\": [\"Republican Party\"], \"ids\": [\"Republican Party\"], \"legendgroup\": \"Republican Party\", \"marker\": {\"color\": \"#EF553B\", \"size\": [44.2], \"sizemode\": \"area\", \"sizeref\": 0.14175000000000001, \"symbol\": \"circle\"}, \"mode\": \"markers\", \"name\": \"Republican Party\", \"orientation\": \"v\", \"showlegend\": true, \"x\": [0.345], \"xaxis\": \"x\", \"y\": [0.19399999999999998], \"yaxis\": \"y\", \"type\": \"scatter\"}], \"name\": \"1986\"}, {\"data\": [{\"hovertemplate\": \"<b>%{hovertext}</b><br><br>Party=Democratic Party<br>Year=1988<br>Populism=%{x}<br>Illiberalism=%{y}<br>Votes (%)=%{marker.size}<extra></extra>\", \"hovertext\": [\"Democratic Party\"], \"ids\": [\"Democratic Party\"], \"legendgroup\": \"Democratic Party\", \"marker\": {\"color\": \"#636efa\", \"size\": [53.7], \"sizemode\": \"area\", \"sizeref\": 0.14175000000000001, \"symbol\": \"circle\"}, \"mode\": \"markers\", \"name\": \"Democratic Party\", \"orientation\": \"v\", \"showlegend\": true, \"x\": [0.35], \"xaxis\": \"x\", \"y\": [0.12], \"yaxis\": \"y\", \"type\": \"scatter\"}, {\"hovertemplate\": \"<b>%{hovertext}</b><br><br>Party=Republican Party<br>Year=1988<br>Populism=%{x}<br>Illiberalism=%{y}<br>Votes (%)=%{marker.size}<extra></extra>\", \"hovertext\": [\"Republican Party\"], \"ids\": [\"Republican Party\"], \"legendgroup\": \"Republican Party\", \"marker\": {\"color\": \"#EF553B\", \"size\": [45.2], \"sizemode\": \"area\", \"sizeref\": 0.14175000000000001, \"symbol\": \"circle\"}, \"mode\": \"markers\", \"name\": \"Republican Party\", \"orientation\": \"v\", \"showlegend\": true, \"x\": [0.345], \"xaxis\": \"x\", \"y\": [0.19], \"yaxis\": \"y\", \"type\": \"scatter\"}], \"name\": \"1988\"}, {\"data\": [{\"hovertemplate\": \"<b>%{hovertext}</b><br><br>Party=Democratic Party<br>Year=1990<br>Populism=%{x}<br>Illiberalism=%{y}<br>Votes (%)=%{marker.size}<extra></extra>\", \"hovertext\": [\"Democratic Party\"], \"ids\": [\"Democratic Party\"], \"legendgroup\": \"Democratic Party\", \"marker\": {\"color\": \"#636efa\", \"size\": [52.0], \"sizemode\": \"area\", \"sizeref\": 0.14175000000000001, \"symbol\": \"circle\"}, \"mode\": \"markers\", \"name\": \"Democratic Party\", \"orientation\": \"v\", \"showlegend\": true, \"x\": [0.35], \"xaxis\": \"x\", \"y\": [0.11699999999999999], \"yaxis\": \"y\", \"type\": \"scatter\"}, {\"hovertemplate\": \"<b>%{hovertext}</b><br><br>Party=Republican Party<br>Year=1990<br>Populism=%{x}<br>Illiberalism=%{y}<br>Votes (%)=%{marker.size}<extra></extra>\", \"hovertext\": [\"Republican Party\"], \"ids\": [\"Republican Party\"], \"legendgroup\": \"Republican Party\", \"marker\": {\"color\": \"#EF553B\", \"size\": [44.0], \"sizemode\": \"area\", \"sizeref\": 0.14175000000000001, \"symbol\": \"circle\"}, \"mode\": \"markers\", \"name\": \"Republican Party\", \"orientation\": \"v\", \"showlegend\": true, \"x\": [0.345], \"xaxis\": \"x\", \"y\": [0.19], \"yaxis\": \"y\", \"type\": \"scatter\"}], \"name\": \"1990\"}, {\"data\": [{\"hovertemplate\": \"<b>%{hovertext}</b><br><br>Party=Democratic Party<br>Year=1992<br>Populism=%{x}<br>Illiberalism=%{y}<br>Votes (%)=%{marker.size}<extra></extra>\", \"hovertext\": [\"Democratic Party\"], \"ids\": [\"Democratic Party\"], \"legendgroup\": \"Democratic Party\", \"marker\": {\"color\": \"#636efa\", \"size\": [50.0], \"sizemode\": \"area\", \"sizeref\": 0.14175000000000001, \"symbol\": \"circle\"}, \"mode\": \"markers\", \"name\": \"Democratic Party\", \"orientation\": \"v\", \"showlegend\": true, \"x\": [0.358], \"xaxis\": \"x\", \"y\": [0.11699999999999999], \"yaxis\": \"y\", \"type\": \"scatter\"}, {\"hovertemplate\": \"<b>%{hovertext}</b><br><br>Party=Republican Party<br>Year=1992<br>Populism=%{x}<br>Illiberalism=%{y}<br>Votes (%)=%{marker.size}<extra></extra>\", \"hovertext\": [\"Republican Party\"], \"ids\": [\"Republican Party\"], \"legendgroup\": \"Republican Party\", \"marker\": {\"color\": \"#EF553B\", \"size\": [44.8], \"sizemode\": \"area\", \"sizeref\": 0.14175000000000001, \"symbol\": \"circle\"}, \"mode\": \"markers\", \"name\": \"Republican Party\", \"orientation\": \"v\", \"showlegend\": true, \"x\": [0.345], \"xaxis\": \"x\", \"y\": [0.19], \"yaxis\": \"y\", \"type\": \"scatter\"}], \"name\": \"1992\"}, {\"data\": [{\"hovertemplate\": \"<b>%{hovertext}</b><br><br>Party=Democratic Party<br>Year=1994<br>Populism=%{x}<br>Illiberalism=%{y}<br>Votes (%)=%{marker.size}<extra></extra>\", \"hovertext\": [\"Democratic Party\"], \"ids\": [\"Democratic Party\"], \"legendgroup\": \"Democratic Party\", \"marker\": {\"color\": \"#636efa\", \"size\": [44.8], \"sizemode\": \"area\", \"sizeref\": 0.14175000000000001, \"symbol\": \"circle\"}, \"mode\": \"markers\", \"name\": \"Democratic Party\", \"orientation\": \"v\", \"showlegend\": true, \"x\": [0.35200000000000004], \"xaxis\": \"x\", \"y\": [0.11699999999999999], \"yaxis\": \"y\", \"type\": \"scatter\"}, {\"hovertemplate\": \"<b>%{hovertext}</b><br><br>Party=Republican Party<br>Year=1994<br>Populism=%{x}<br>Illiberalism=%{y}<br>Votes (%)=%{marker.size}<extra></extra>\", \"hovertext\": [\"Republican Party\"], \"ids\": [\"Republican Party\"], \"legendgroup\": \"Republican Party\", \"marker\": {\"color\": \"#EF553B\", \"size\": [51.5], \"sizemode\": \"area\", \"sizeref\": 0.14175000000000001, \"symbol\": \"circle\"}, \"mode\": \"markers\", \"name\": \"Republican Party\", \"orientation\": \"v\", \"showlegend\": true, \"x\": [0.342], \"xaxis\": \"x\", \"y\": [0.19], \"yaxis\": \"y\", \"type\": \"scatter\"}], \"name\": \"1994\"}, {\"data\": [{\"hovertemplate\": \"<b>%{hovertext}</b><br><br>Party=Democratic Party<br>Year=1996<br>Populism=%{x}<br>Illiberalism=%{y}<br>Votes (%)=%{marker.size}<extra></extra>\", \"hovertext\": [\"Democratic Party\"], \"ids\": [\"Democratic Party\"], \"legendgroup\": \"Democratic Party\", \"marker\": {\"color\": \"#636efa\", \"size\": [48.1], \"sizemode\": \"area\", \"sizeref\": 0.14175000000000001, \"symbol\": \"circle\"}, \"mode\": \"markers\", \"name\": \"Democratic Party\", \"orientation\": \"v\", \"showlegend\": true, \"x\": [0.35200000000000004], \"xaxis\": \"x\", \"y\": [0.11699999999999999], \"yaxis\": \"y\", \"type\": \"scatter\"}, {\"hovertemplate\": \"<b>%{hovertext}</b><br><br>Party=Republican Party<br>Year=1996<br>Populism=%{x}<br>Illiberalism=%{y}<br>Votes (%)=%{marker.size}<extra></extra>\", \"hovertext\": [\"Republican Party\"], \"ids\": [\"Republican Party\"], \"legendgroup\": \"Republican Party\", \"marker\": {\"color\": \"#EF553B\", \"size\": [47.8], \"sizemode\": \"area\", \"sizeref\": 0.14175000000000001, \"symbol\": \"circle\"}, \"mode\": \"markers\", \"name\": \"Republican Party\", \"orientation\": \"v\", \"showlegend\": true, \"x\": [0.342], \"xaxis\": \"x\", \"y\": [0.19], \"yaxis\": \"y\", \"type\": \"scatter\"}], \"name\": \"1996\"}, {\"data\": [{\"hovertemplate\": \"<b>%{hovertext}</b><br><br>Party=Democratic Party<br>Year=1998<br>Populism=%{x}<br>Illiberalism=%{y}<br>Votes (%)=%{marker.size}<extra></extra>\", \"hovertext\": [\"Democratic Party\"], \"ids\": [\"Democratic Party\"], \"legendgroup\": \"Democratic Party\", \"marker\": {\"color\": \"#636efa\", \"size\": [47.1], \"sizemode\": \"area\", \"sizeref\": 0.14175000000000001, \"symbol\": \"circle\"}, \"mode\": \"markers\", \"name\": \"Democratic Party\", \"orientation\": \"v\", \"showlegend\": true, \"x\": [0.353], \"xaxis\": \"x\", \"y\": [0.11699999999999999], \"yaxis\": \"y\", \"type\": \"scatter\"}, {\"hovertemplate\": \"<b>%{hovertext}</b><br><br>Party=Republican Party<br>Year=1998<br>Populism=%{x}<br>Illiberalism=%{y}<br>Votes (%)=%{marker.size}<extra></extra>\", \"hovertext\": [\"Republican Party\"], \"ids\": [\"Republican Party\"], \"legendgroup\": \"Republican Party\", \"marker\": {\"color\": \"#EF553B\", \"size\": [48.0], \"sizemode\": \"area\", \"sizeref\": 0.14175000000000001, \"symbol\": \"circle\"}, \"mode\": \"markers\", \"name\": \"Republican Party\", \"orientation\": \"v\", \"showlegend\": true, \"x\": [0.348], \"xaxis\": \"x\", \"y\": [0.19], \"yaxis\": \"y\", \"type\": \"scatter\"}], \"name\": \"1998\"}, {\"data\": [{\"hovertemplate\": \"<b>%{hovertext}</b><br><br>Party=Democratic Party<br>Year=2000<br>Populism=%{x}<br>Illiberalism=%{y}<br>Votes (%)=%{marker.size}<extra></extra>\", \"hovertext\": [\"Democratic Party\"], \"ids\": [\"Democratic Party\"], \"legendgroup\": \"Democratic Party\", \"marker\": {\"color\": \"#636efa\", \"size\": [47.3], \"sizemode\": \"area\", \"sizeref\": 0.14175000000000001, \"symbol\": \"circle\"}, \"mode\": \"markers\", \"name\": \"Democratic Party\", \"orientation\": \"v\", \"showlegend\": true, \"x\": [0.355], \"xaxis\": \"x\", \"y\": [0.11699999999999999], \"yaxis\": \"y\", \"type\": \"scatter\"}, {\"hovertemplate\": \"<b>%{hovertext}</b><br><br>Party=Republican Party<br>Year=2000<br>Populism=%{x}<br>Illiberalism=%{y}<br>Votes (%)=%{marker.size}<extra></extra>\", \"hovertext\": [\"Republican Party\"], \"ids\": [\"Republican Party\"], \"legendgroup\": \"Republican Party\", \"marker\": {\"color\": \"#EF553B\", \"size\": [47.0], \"sizemode\": \"area\", \"sizeref\": 0.14175000000000001, \"symbol\": \"circle\"}, \"mode\": \"markers\", \"name\": \"Republican Party\", \"orientation\": \"v\", \"showlegend\": true, \"x\": [0.348], \"xaxis\": \"x\", \"y\": [0.281], \"yaxis\": \"y\", \"type\": \"scatter\"}], \"name\": \"2000\"}, {\"data\": [{\"hovertemplate\": \"<b>%{hovertext}</b><br><br>Party=Democratic Party<br>Year=2002<br>Populism=%{x}<br>Illiberalism=%{y}<br>Votes (%)=%{marker.size}<extra></extra>\", \"hovertext\": [\"Democratic Party\"], \"ids\": [\"Democratic Party\"], \"legendgroup\": \"Democratic Party\", \"marker\": {\"color\": \"#636efa\", \"size\": [45.0], \"sizemode\": \"area\", \"sizeref\": 0.14175000000000001, \"symbol\": \"circle\"}, \"mode\": \"markers\", \"name\": \"Democratic Party\", \"orientation\": \"v\", \"showlegend\": true, \"x\": [0.34700000000000003], \"xaxis\": \"x\", \"y\": [0.11599999999999999], \"yaxis\": \"y\", \"type\": \"scatter\"}, {\"hovertemplate\": \"<b>%{hovertext}</b><br><br>Party=Republican Party<br>Year=2002<br>Populism=%{x}<br>Illiberalism=%{y}<br>Votes (%)=%{marker.size}<extra></extra>\", \"hovertext\": [\"Republican Party\"], \"ids\": [\"Republican Party\"], \"legendgroup\": \"Republican Party\", \"marker\": {\"color\": \"#EF553B\", \"size\": [49.7], \"sizemode\": \"area\", \"sizeref\": 0.14175000000000001, \"symbol\": \"circle\"}, \"mode\": \"markers\", \"name\": \"Republican Party\", \"orientation\": \"v\", \"showlegend\": true, \"x\": [0.33799999999999997], \"xaxis\": \"x\", \"y\": [0.27], \"yaxis\": \"y\", \"type\": \"scatter\"}], \"name\": \"2002\"}, {\"data\": [{\"hovertemplate\": \"<b>%{hovertext}</b><br><br>Party=Democratic Party<br>Year=2004<br>Populism=%{x}<br>Illiberalism=%{y}<br>Votes (%)=%{marker.size}<extra></extra>\", \"hovertext\": [\"Democratic Party\"], \"ids\": [\"Democratic Party\"], \"legendgroup\": \"Democratic Party\", \"marker\": {\"color\": \"#636efa\", \"size\": [46.5], \"sizemode\": \"area\", \"sizeref\": 0.14175000000000001, \"symbol\": \"circle\"}, \"mode\": \"markers\", \"name\": \"Democratic Party\", \"orientation\": \"v\", \"showlegend\": true, \"x\": [0.309], \"xaxis\": \"x\", \"y\": [0.11599999999999999], \"yaxis\": \"y\", \"type\": \"scatter\"}, {\"hovertemplate\": \"<b>%{hovertext}</b><br><br>Party=Republican Party<br>Year=2004<br>Populism=%{x}<br>Illiberalism=%{y}<br>Votes (%)=%{marker.size}<extra></extra>\", \"hovertext\": [\"Republican Party\"], \"ids\": [\"Republican Party\"], \"legendgroup\": \"Republican Party\", \"marker\": {\"color\": \"#EF553B\", \"size\": [49.3], \"sizemode\": \"area\", \"sizeref\": 0.14175000000000001, \"symbol\": \"circle\"}, \"mode\": \"markers\", \"name\": \"Republican Party\", \"orientation\": \"v\", \"showlegend\": true, \"x\": [0.304], \"xaxis\": \"x\", \"y\": [0.27], \"yaxis\": \"y\", \"type\": \"scatter\"}], \"name\": \"2004\"}, {\"data\": [{\"hovertemplate\": \"<b>%{hovertext}</b><br><br>Party=Democratic Party<br>Year=2006<br>Populism=%{x}<br>Illiberalism=%{y}<br>Votes (%)=%{marker.size}<extra></extra>\", \"hovertext\": [\"Democratic Party\"], \"ids\": [\"Democratic Party\"], \"legendgroup\": \"Democratic Party\", \"marker\": {\"color\": \"#636efa\", \"size\": [52.3], \"sizemode\": \"area\", \"sizeref\": 0.14175000000000001, \"symbol\": \"circle\"}, \"mode\": \"markers\", \"name\": \"Democratic Party\", \"orientation\": \"v\", \"showlegend\": true, \"x\": [0.309], \"xaxis\": \"x\", \"y\": [0.11599999999999999], \"yaxis\": \"y\", \"type\": \"scatter\"}, {\"hovertemplate\": \"<b>%{hovertext}</b><br><br>Party=Republican Party<br>Year=2006<br>Populism=%{x}<br>Illiberalism=%{y}<br>Votes (%)=%{marker.size}<extra></extra>\", \"hovertext\": [\"Republican Party\"], \"ids\": [\"Republican Party\"], \"legendgroup\": \"Republican Party\", \"marker\": {\"color\": \"#EF553B\", \"size\": [44.3], \"sizemode\": \"area\", \"sizeref\": 0.14175000000000001, \"symbol\": \"circle\"}, \"mode\": \"markers\", \"name\": \"Republican Party\", \"orientation\": \"v\", \"showlegend\": true, \"x\": [0.304], \"xaxis\": \"x\", \"y\": [0.314], \"yaxis\": \"y\", \"type\": \"scatter\"}], \"name\": \"2006\"}, {\"data\": [{\"hovertemplate\": \"<b>%{hovertext}</b><br><br>Party=Democratic Party<br>Year=2008<br>Populism=%{x}<br>Illiberalism=%{y}<br>Votes (%)=%{marker.size}<extra></extra>\", \"hovertext\": [\"Democratic Party\"], \"ids\": [\"Democratic Party\"], \"legendgroup\": \"Democratic Party\", \"marker\": {\"color\": \"#636efa\", \"size\": [52.9], \"sizemode\": \"area\", \"sizeref\": 0.14175000000000001, \"symbol\": \"circle\"}, \"mode\": \"markers\", \"name\": \"Democratic Party\", \"orientation\": \"v\", \"showlegend\": true, \"x\": [0.374], \"xaxis\": \"x\", \"y\": [0.124], \"yaxis\": \"y\", \"type\": \"scatter\"}, {\"hovertemplate\": \"<b>%{hovertext}</b><br><br>Party=Republican Party<br>Year=2008<br>Populism=%{x}<br>Illiberalism=%{y}<br>Votes (%)=%{marker.size}<extra></extra>\", \"hovertext\": [\"Republican Party\"], \"ids\": [\"Republican Party\"], \"legendgroup\": \"Republican Party\", \"marker\": {\"color\": \"#EF553B\", \"size\": [42.4], \"sizemode\": \"area\", \"sizeref\": 0.14175000000000001, \"symbol\": \"circle\"}, \"mode\": \"markers\", \"name\": \"Republican Party\", \"orientation\": \"v\", \"showlegend\": true, \"x\": [0.361], \"xaxis\": \"x\", \"y\": [0.32799999999999996], \"yaxis\": \"y\", \"type\": \"scatter\"}], \"name\": \"2008\"}, {\"data\": [{\"hovertemplate\": \"<b>%{hovertext}</b><br><br>Party=Democratic Party<br>Year=2010<br>Populism=%{x}<br>Illiberalism=%{y}<br>Votes (%)=%{marker.size}<extra></extra>\", \"hovertext\": [\"Democratic Party\"], \"ids\": [\"Democratic Party\"], \"legendgroup\": \"Democratic Party\", \"marker\": {\"color\": \"#636efa\", \"size\": [44.9], \"sizemode\": \"area\", \"sizeref\": 0.14175000000000001, \"symbol\": \"circle\"}, \"mode\": \"markers\", \"name\": \"Democratic Party\", \"orientation\": \"v\", \"showlegend\": true, \"x\": [0.324], \"xaxis\": \"x\", \"y\": [0.11800000000000001], \"yaxis\": \"y\", \"type\": \"scatter\"}, {\"hovertemplate\": \"<b>%{hovertext}</b><br><br>Party=Republican Party<br>Year=2010<br>Populism=%{x}<br>Illiberalism=%{y}<br>Votes (%)=%{marker.size}<extra></extra>\", \"hovertext\": [\"Republican Party\"], \"ids\": [\"Republican Party\"], \"legendgroup\": \"Republican Party\", \"marker\": {\"color\": \"#EF553B\", \"size\": [51.7], \"sizemode\": \"area\", \"sizeref\": 0.14175000000000001, \"symbol\": \"circle\"}, \"mode\": \"markers\", \"name\": \"Republican Party\", \"orientation\": \"v\", \"showlegend\": true, \"x\": [0.612], \"xaxis\": \"x\", \"y\": [0.315], \"yaxis\": \"y\", \"type\": \"scatter\"}], \"name\": \"2010\"}, {\"data\": [{\"hovertemplate\": \"<b>%{hovertext}</b><br><br>Party=Democratic Party<br>Year=2012<br>Populism=%{x}<br>Illiberalism=%{y}<br>Votes (%)=%{marker.size}<extra></extra>\", \"hovertext\": [\"Democratic Party\"], \"ids\": [\"Democratic Party\"], \"legendgroup\": \"Democratic Party\", \"marker\": {\"color\": \"#636efa\", \"size\": [48.7], \"sizemode\": \"area\", \"sizeref\": 0.14175000000000001, \"symbol\": \"circle\"}, \"mode\": \"markers\", \"name\": \"Democratic Party\", \"orientation\": \"v\", \"showlegend\": true, \"x\": [0.253], \"xaxis\": \"x\", \"y\": [0.11800000000000001], \"yaxis\": \"y\", \"type\": \"scatter\"}, {\"hovertemplate\": \"<b>%{hovertext}</b><br><br>Party=Republican Party<br>Year=2012<br>Populism=%{x}<br>Illiberalism=%{y}<br>Votes (%)=%{marker.size}<extra></extra>\", \"hovertext\": [\"Republican Party\"], \"ids\": [\"Republican Party\"], \"legendgroup\": \"Republican Party\", \"marker\": {\"color\": \"#EF553B\", \"size\": [48.5], \"sizemode\": \"area\", \"sizeref\": 0.14175000000000001, \"symbol\": \"circle\"}, \"mode\": \"markers\", \"name\": \"Republican Party\", \"orientation\": \"v\", \"showlegend\": true, \"x\": [0.545], \"xaxis\": \"x\", \"y\": [0.38], \"yaxis\": \"y\", \"type\": \"scatter\"}], \"name\": \"2012\"}, {\"data\": [{\"hovertemplate\": \"<b>%{hovertext}</b><br><br>Party=Democratic Party<br>Year=2014<br>Populism=%{x}<br>Illiberalism=%{y}<br>Votes (%)=%{marker.size}<extra></extra>\", \"hovertext\": [\"Democratic Party\"], \"ids\": [\"Democratic Party\"], \"legendgroup\": \"Democratic Party\", \"marker\": {\"color\": \"#636efa\", \"size\": [45.5], \"sizemode\": \"area\", \"sizeref\": 0.14175000000000001, \"symbol\": \"circle\"}, \"mode\": \"markers\", \"name\": \"Democratic Party\", \"orientation\": \"v\", \"showlegend\": true, \"x\": [0.259], \"xaxis\": \"x\", \"y\": [0.11800000000000001], \"yaxis\": \"y\", \"type\": \"scatter\"}, {\"hovertemplate\": \"<b>%{hovertext}</b><br><br>Party=Republican Party<br>Year=2014<br>Populism=%{x}<br>Illiberalism=%{y}<br>Votes (%)=%{marker.size}<extra></extra>\", \"hovertext\": [\"Republican Party\"], \"ids\": [\"Republican Party\"], \"legendgroup\": \"Republican Party\", \"marker\": {\"color\": \"#EF553B\", \"size\": [51.2], \"sizemode\": \"area\", \"sizeref\": 0.14175000000000001, \"symbol\": \"circle\"}, \"mode\": \"markers\", \"name\": \"Republican Party\", \"orientation\": \"v\", \"showlegend\": true, \"x\": [0.552], \"xaxis\": \"x\", \"y\": [0.41600000000000004], \"yaxis\": \"y\", \"type\": \"scatter\"}], \"name\": \"2014\"}, {\"data\": [{\"hovertemplate\": \"<b>%{hovertext}</b><br><br>Party=Democratic Party<br>Year=2016<br>Populism=%{x}<br>Illiberalism=%{y}<br>Votes (%)=%{marker.size}<extra></extra>\", \"hovertext\": [\"Democratic Party\"], \"ids\": [\"Democratic Party\"], \"legendgroup\": \"Democratic Party\", \"marker\": {\"color\": \"#636efa\", \"size\": [49.4], \"sizemode\": \"area\", \"sizeref\": 0.14175000000000001, \"symbol\": \"circle\"}, \"mode\": \"markers\", \"name\": \"Democratic Party\", \"orientation\": \"v\", \"showlegend\": true, \"x\": [0.322], \"xaxis\": \"x\", \"y\": [0.125], \"yaxis\": \"y\", \"type\": \"scatter\"}, {\"hovertemplate\": \"<b>%{hovertext}</b><br><br>Party=Republican Party<br>Year=2016<br>Populism=%{x}<br>Illiberalism=%{y}<br>Votes (%)=%{marker.size}<extra></extra>\", \"hovertext\": [\"Republican Party\"], \"ids\": [\"Republican Party\"], \"legendgroup\": \"Republican Party\", \"marker\": {\"color\": \"#EF553B\", \"size\": [50.6], \"sizemode\": \"area\", \"sizeref\": 0.14175000000000001, \"symbol\": \"circle\"}, \"mode\": \"markers\", \"name\": \"Republican Party\", \"orientation\": \"v\", \"showlegend\": true, \"x\": [0.6859999999999999], \"xaxis\": \"x\", \"y\": [0.687], \"yaxis\": \"y\", \"type\": \"scatter\"}], \"name\": \"2016\"}, {\"data\": [{\"hovertemplate\": \"<b>%{hovertext}</b><br><br>Party=Democratic Party<br>Year=2018<br>Populism=%{x}<br>Illiberalism=%{y}<br>Votes (%)=%{marker.size}<extra></extra>\", \"hovertext\": [\"Democratic Party\"], \"ids\": [\"Democratic Party\"], \"legendgroup\": \"Democratic Party\", \"marker\": {\"color\": \"#636efa\", \"size\": [54.4], \"sizemode\": \"area\", \"sizeref\": 0.14175000000000001, \"symbol\": \"circle\"}, \"mode\": \"markers\", \"name\": \"Democratic Party\", \"orientation\": \"v\", \"showlegend\": true, \"x\": [0.405], \"xaxis\": \"x\", \"y\": [0.11800000000000001], \"yaxis\": \"y\", \"type\": \"scatter\"}, {\"hovertemplate\": \"<b>%{hovertext}</b><br><br>Party=Republican Party<br>Year=2018<br>Populism=%{x}<br>Illiberalism=%{y}<br>Votes (%)=%{marker.size}<extra></extra>\", \"hovertext\": [\"Republican Party\"], \"ids\": [\"Republican Party\"], \"legendgroup\": \"Republican Party\", \"marker\": {\"color\": \"#EF553B\", \"size\": [45.6], \"sizemode\": \"area\", \"sizeref\": 0.14175000000000001, \"symbol\": \"circle\"}, \"mode\": \"markers\", \"name\": \"Republican Party\", \"orientation\": \"v\", \"showlegend\": true, \"x\": [0.799], \"xaxis\": \"x\", \"y\": [0.69], \"yaxis\": \"y\", \"type\": \"scatter\"}], \"name\": \"2018\"}]);\n",
       "                        }).then(function(){\n",
       "                            \n",
       "var gd = document.getElementById('94625a82-3a7f-448f-b9ce-3753791c9644');\n",
       "var x = new MutationObserver(function (mutations, observer) {{\n",
       "        var display = window.getComputedStyle(gd).display;\n",
       "        if (!display || display === 'none') {{\n",
       "            console.log([gd, 'removed!']);\n",
       "            Plotly.purge(gd);\n",
       "            observer.disconnect();\n",
       "        }}\n",
       "}});\n",
       "\n",
       "// Listen for the removal of the full notebook cells\n",
       "var notebookContainer = gd.closest('#notebook-container');\n",
       "if (notebookContainer) {{\n",
       "    x.observe(notebookContainer, {childList: true});\n",
       "}}\n",
       "\n",
       "// Listen for the clearing of the current output cell\n",
       "var outputEl = gd.closest('.output');\n",
       "if (outputEl) {{\n",
       "    x.observe(outputEl, {childList: true});\n",
       "}}\n",
       "\n",
       "                        })                };                });            </script>        </div>"
      ]
     },
     "metadata": {},
     "output_type": "display_data"
    }
   ],
   "source": [
    "fig = px.scatter(\n",
    "    df, \n",
    "    x='Populism', \n",
    "    y='Illiberalism', \n",
    "    animation_frame='Year', \n",
    "    animation_group='Party',\n",
    "    color='Party', \n",
    "    hover_name='Party', \n",
    "    size='Votes (%)', \n",
    "    range_x=[0,1], \n",
    "    range_y=[0,1]\n",
    ")\n",
    "\n",
    "# annotate\n",
    "fig.update_layout(\n",
    "    title=\"U.S. Party Shifts Overtime\",\n",
    "    annotations=[\n",
    "        {\n",
    "            \"x\":0.25, \n",
    "            \"y\":0.21, \n",
    "            \"text\": \n",
    "            \"Left Leaning Democracies\", \n",
    "            'showarrow':False, \n",
    "            \"font\":{\n",
    "                \"color\":\"black\", \n",
    "                \"size\":15\n",
    "            }\n",
    "        },\n",
    "        {\n",
    "            \"x\":0.75, \n",
    "            \"y\":0.21, \n",
    "            \"text\": \n",
    "            \"Right Leaning Democracies\", \n",
    "            'showarrow':False,\n",
    "            \"font\":{\n",
    "                \"color\":\"black\", \n",
    "                \"size\":15\n",
    "            }\n",
    "        },\n",
    "        {\n",
    "            \"x\":0.25, \n",
    "            \"y\":0.96, \n",
    "            \"text\": \n",
    "            \"Left Leaning Autocracies\", \n",
    "            'showarrow':False,\n",
    "            \"font\":{\n",
    "                \"color\":\"black\", \n",
    "                \"size\":15\n",
    "            }\n",
    "        },\n",
    "        {\n",
    "            \"x\":0.75, \n",
    "            \"y\":0.96, \n",
    "            \"text\": \n",
    "            \"Right Leaning Autocracies\", \n",
    "            'showarrow':False,\n",
    "            \"font\":{\n",
    "                \"color\":\"black\", \n",
    "                \"size\":15\n",
    "            }\n",
    "        }\n",
    "    ]\n",
    ")\n",
    "\n",
    "fig.add_shape(type='line',\n",
    "    x0=0.5, y0=0, x1=0.5, y1=1,\n",
    "    line=dict(color='black',width=1)\n",
    ")\n",
    "\n",
    "fig.add_shape(type='line',\n",
    "    x0=0, y0=0.25, x1=1, y1=0.25,\n",
    "    line=dict(color='black',width=1)\n",
    ")\n",
    "\n",
    "fig.show()"
   ]
  },
  {
   "cell_type": "code",
   "execution_count": null,
   "metadata": {},
   "outputs": [],
   "source": []
  }
 ],
 "metadata": {
  "kernelspec": {
   "display_name": "v-dem",
   "language": "python",
   "name": "v-dem"
  },
  "language_info": {
   "codemirror_mode": {
    "name": "ipython",
    "version": 3
   },
   "file_extension": ".py",
   "mimetype": "text/x-python",
   "name": "python",
   "nbconvert_exporter": "python",
   "pygments_lexer": "ipython3",
   "version": "3.8.5"
  }
 },
 "nbformat": 4,
 "nbformat_minor": 4
}
